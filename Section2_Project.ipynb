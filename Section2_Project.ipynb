{
  "nbformat": 4,
  "nbformat_minor": 0,
  "metadata": {
    "colab": {
      "provenance": [],
      "machine_shape": "hm"
    },
    "kernelspec": {
      "name": "python3",
      "display_name": "Python 3"
    },
    "language_info": {
      "name": "python"
    },
    "accelerator": "GPU",
    "gpuClass": "standard"
  },
  "cells": [
    {
      "cell_type": "markdown",
      "source": [
        "# Q. 푸드 트럭에 주문이 없는 경우 어느 곳에서 대기해야 수익률을 올릴 수 있을까?\n",
        "\n",
        "### 1. 푸드 트럭란?\n",
        "특정 디바이스를 통하여 주문이 시작되면 배달지 이동중에 조리를 동시에 할 수 있는 트럭\n",
        "\n",
        "### 2. 문제 정의\n",
        "기존에 주문이 활발한 상황을 제외하고 주문이 없어 조리하지도 않고 이동하지도 않는 상황에서 \n",
        "\n",
        "어떤 위치에 대기하고 있어야 그나마 수익성을 기대해 볼 수 있을 것인가에 대한 질문을 던져봅니다.\n",
        "\n",
        "### 3. 데이터\n",
        "데이터를 준비함에 있어서 위치정보와 고객정보, 주문정보를 가지고 있는 데이터가 가장 중요하였고,\n",
        "\n",
        "Kaggle을 통하여 Online Food Delivery라는 데이터를 통해 위 해당 데이터를 입수 할 수 있었습니다."
      ],
      "metadata": {
        "id": "zJokRwRD5ZW0"
      }
    },
    {
      "cell_type": "code",
      "source": [
        "import pandas as pd\n",
        "import numpy as np"
      ],
      "metadata": {
        "id": "6dYLq48U5Ygk"
      },
      "execution_count": 1,
      "outputs": []
    },
    {
      "cell_type": "code",
      "execution_count": 2,
      "metadata": {
        "colab": {
          "base_uri": "https://localhost:8080/",
          "height": 508
        },
        "id": "-xzh6ybZ5AOc",
        "outputId": "e8016563-4f6f-4fee-e2d5-60babcff1a31"
      },
      "outputs": [
        {
          "output_type": "execute_result",
          "data": {
            "text/plain": [
              "   Age  Gender Marital Status Occupation  Monthly Income  \\\n",
              "0   20  Female         Single    Student       No Income   \n",
              "1   24  Female         Single    Student  Below Rs.10000   \n",
              "2   22    Male         Single    Student  Below Rs.10000   \n",
              "3   22  Female         Single    Student       No Income   \n",
              "4   22    Male         Single    Student  Below Rs.10000   \n",
              "\n",
              "  Educational Qualifications  Family size  latitude  longitude  Pin code  ...  \\\n",
              "0              Post Graduate            4   12.9766    77.5993    560001  ...   \n",
              "1                   Graduate            3   12.9770    77.5773    560009  ...   \n",
              "2              Post Graduate            3   12.9551    77.6593    560017  ...   \n",
              "3                   Graduate            6   12.9473    77.5616    560019  ...   \n",
              "4              Post Graduate            4   12.9850    77.5533    560010  ...   \n",
              "\n",
              "     Less Delivery time High Quality of package       Number of calls  \\\n",
              "0  Moderately Important    Moderately Important  Moderately Important   \n",
              "1        Very Important          Very Important        Very Important   \n",
              "2             Important          Very Important  Moderately Important   \n",
              "3        Very Important               Important  Moderately Important   \n",
              "4             Important               Important  Moderately Important   \n",
              "\n",
              "             Politeness            Freshness            Temperature  \\\n",
              "0  Moderately Important  Moderately Important  Moderately Important   \n",
              "1        Very Important        Very Important        Very Important   \n",
              "2        Very Important        Very Important             Important   \n",
              "3        Very Important        Very Important        Very Important   \n",
              "4             Important             Important             Important   \n",
              "\n",
              "            Good Taste          Good Quantity Output  \\\n",
              "0  Moderately Important  Moderately Important    Yes   \n",
              "1        Very Important        Very Important    Yes   \n",
              "2        Very Important  Moderately Important    Yes   \n",
              "3        Very Important             Important    Yes   \n",
              "4        Very Important        Very Important    Yes   \n",
              "\n",
              "                                             Reviews  \n",
              "0                                              Nil\\n  \n",
              "1                                                Nil  \n",
              "2  Many a times payment gateways are an issue, so...  \n",
              "3                                                nil  \n",
              "4                                                NIL  \n",
              "\n",
              "[5 rows x 55 columns]"
            ],
            "text/html": [
              "\n",
              "  <div id=\"df-143baa64-7ca0-44f9-81e6-72f6113f94c9\">\n",
              "    <div class=\"colab-df-container\">\n",
              "      <div>\n",
              "<style scoped>\n",
              "    .dataframe tbody tr th:only-of-type {\n",
              "        vertical-align: middle;\n",
              "    }\n",
              "\n",
              "    .dataframe tbody tr th {\n",
              "        vertical-align: top;\n",
              "    }\n",
              "\n",
              "    .dataframe thead th {\n",
              "        text-align: right;\n",
              "    }\n",
              "</style>\n",
              "<table border=\"1\" class=\"dataframe\">\n",
              "  <thead>\n",
              "    <tr style=\"text-align: right;\">\n",
              "      <th></th>\n",
              "      <th>Age</th>\n",
              "      <th>Gender</th>\n",
              "      <th>Marital Status</th>\n",
              "      <th>Occupation</th>\n",
              "      <th>Monthly Income</th>\n",
              "      <th>Educational Qualifications</th>\n",
              "      <th>Family size</th>\n",
              "      <th>latitude</th>\n",
              "      <th>longitude</th>\n",
              "      <th>Pin code</th>\n",
              "      <th>...</th>\n",
              "      <th>Less Delivery time</th>\n",
              "      <th>High Quality of package</th>\n",
              "      <th>Number of calls</th>\n",
              "      <th>Politeness</th>\n",
              "      <th>Freshness</th>\n",
              "      <th>Temperature</th>\n",
              "      <th>Good Taste</th>\n",
              "      <th>Good Quantity</th>\n",
              "      <th>Output</th>\n",
              "      <th>Reviews</th>\n",
              "    </tr>\n",
              "  </thead>\n",
              "  <tbody>\n",
              "    <tr>\n",
              "      <th>0</th>\n",
              "      <td>20</td>\n",
              "      <td>Female</td>\n",
              "      <td>Single</td>\n",
              "      <td>Student</td>\n",
              "      <td>No Income</td>\n",
              "      <td>Post Graduate</td>\n",
              "      <td>4</td>\n",
              "      <td>12.9766</td>\n",
              "      <td>77.5993</td>\n",
              "      <td>560001</td>\n",
              "      <td>...</td>\n",
              "      <td>Moderately Important</td>\n",
              "      <td>Moderately Important</td>\n",
              "      <td>Moderately Important</td>\n",
              "      <td>Moderately Important</td>\n",
              "      <td>Moderately Important</td>\n",
              "      <td>Moderately Important</td>\n",
              "      <td>Moderately Important</td>\n",
              "      <td>Moderately Important</td>\n",
              "      <td>Yes</td>\n",
              "      <td>Nil\\n</td>\n",
              "    </tr>\n",
              "    <tr>\n",
              "      <th>1</th>\n",
              "      <td>24</td>\n",
              "      <td>Female</td>\n",
              "      <td>Single</td>\n",
              "      <td>Student</td>\n",
              "      <td>Below Rs.10000</td>\n",
              "      <td>Graduate</td>\n",
              "      <td>3</td>\n",
              "      <td>12.9770</td>\n",
              "      <td>77.5773</td>\n",
              "      <td>560009</td>\n",
              "      <td>...</td>\n",
              "      <td>Very Important</td>\n",
              "      <td>Very Important</td>\n",
              "      <td>Very Important</td>\n",
              "      <td>Very Important</td>\n",
              "      <td>Very Important</td>\n",
              "      <td>Very Important</td>\n",
              "      <td>Very Important</td>\n",
              "      <td>Very Important</td>\n",
              "      <td>Yes</td>\n",
              "      <td>Nil</td>\n",
              "    </tr>\n",
              "    <tr>\n",
              "      <th>2</th>\n",
              "      <td>22</td>\n",
              "      <td>Male</td>\n",
              "      <td>Single</td>\n",
              "      <td>Student</td>\n",
              "      <td>Below Rs.10000</td>\n",
              "      <td>Post Graduate</td>\n",
              "      <td>3</td>\n",
              "      <td>12.9551</td>\n",
              "      <td>77.6593</td>\n",
              "      <td>560017</td>\n",
              "      <td>...</td>\n",
              "      <td>Important</td>\n",
              "      <td>Very Important</td>\n",
              "      <td>Moderately Important</td>\n",
              "      <td>Very Important</td>\n",
              "      <td>Very Important</td>\n",
              "      <td>Important</td>\n",
              "      <td>Very Important</td>\n",
              "      <td>Moderately Important</td>\n",
              "      <td>Yes</td>\n",
              "      <td>Many a times payment gateways are an issue, so...</td>\n",
              "    </tr>\n",
              "    <tr>\n",
              "      <th>3</th>\n",
              "      <td>22</td>\n",
              "      <td>Female</td>\n",
              "      <td>Single</td>\n",
              "      <td>Student</td>\n",
              "      <td>No Income</td>\n",
              "      <td>Graduate</td>\n",
              "      <td>6</td>\n",
              "      <td>12.9473</td>\n",
              "      <td>77.5616</td>\n",
              "      <td>560019</td>\n",
              "      <td>...</td>\n",
              "      <td>Very Important</td>\n",
              "      <td>Important</td>\n",
              "      <td>Moderately Important</td>\n",
              "      <td>Very Important</td>\n",
              "      <td>Very Important</td>\n",
              "      <td>Very Important</td>\n",
              "      <td>Very Important</td>\n",
              "      <td>Important</td>\n",
              "      <td>Yes</td>\n",
              "      <td>nil</td>\n",
              "    </tr>\n",
              "    <tr>\n",
              "      <th>4</th>\n",
              "      <td>22</td>\n",
              "      <td>Male</td>\n",
              "      <td>Single</td>\n",
              "      <td>Student</td>\n",
              "      <td>Below Rs.10000</td>\n",
              "      <td>Post Graduate</td>\n",
              "      <td>4</td>\n",
              "      <td>12.9850</td>\n",
              "      <td>77.5533</td>\n",
              "      <td>560010</td>\n",
              "      <td>...</td>\n",
              "      <td>Important</td>\n",
              "      <td>Important</td>\n",
              "      <td>Moderately Important</td>\n",
              "      <td>Important</td>\n",
              "      <td>Important</td>\n",
              "      <td>Important</td>\n",
              "      <td>Very Important</td>\n",
              "      <td>Very Important</td>\n",
              "      <td>Yes</td>\n",
              "      <td>NIL</td>\n",
              "    </tr>\n",
              "  </tbody>\n",
              "</table>\n",
              "<p>5 rows × 55 columns</p>\n",
              "</div>\n",
              "      <button class=\"colab-df-convert\" onclick=\"convertToInteractive('df-143baa64-7ca0-44f9-81e6-72f6113f94c9')\"\n",
              "              title=\"Convert this dataframe to an interactive table.\"\n",
              "              style=\"display:none;\">\n",
              "        \n",
              "  <svg xmlns=\"http://www.w3.org/2000/svg\" height=\"24px\"viewBox=\"0 0 24 24\"\n",
              "       width=\"24px\">\n",
              "    <path d=\"M0 0h24v24H0V0z\" fill=\"none\"/>\n",
              "    <path d=\"M18.56 5.44l.94 2.06.94-2.06 2.06-.94-2.06-.94-.94-2.06-.94 2.06-2.06.94zm-11 1L8.5 8.5l.94-2.06 2.06-.94-2.06-.94L8.5 2.5l-.94 2.06-2.06.94zm10 10l.94 2.06.94-2.06 2.06-.94-2.06-.94-.94-2.06-.94 2.06-2.06.94z\"/><path d=\"M17.41 7.96l-1.37-1.37c-.4-.4-.92-.59-1.43-.59-.52 0-1.04.2-1.43.59L10.3 9.45l-7.72 7.72c-.78.78-.78 2.05 0 2.83L4 21.41c.39.39.9.59 1.41.59.51 0 1.02-.2 1.41-.59l7.78-7.78 2.81-2.81c.8-.78.8-2.07 0-2.86zM5.41 20L4 18.59l7.72-7.72 1.47 1.35L5.41 20z\"/>\n",
              "  </svg>\n",
              "      </button>\n",
              "      \n",
              "  <style>\n",
              "    .colab-df-container {\n",
              "      display:flex;\n",
              "      flex-wrap:wrap;\n",
              "      gap: 12px;\n",
              "    }\n",
              "\n",
              "    .colab-df-convert {\n",
              "      background-color: #E8F0FE;\n",
              "      border: none;\n",
              "      border-radius: 50%;\n",
              "      cursor: pointer;\n",
              "      display: none;\n",
              "      fill: #1967D2;\n",
              "      height: 32px;\n",
              "      padding: 0 0 0 0;\n",
              "      width: 32px;\n",
              "    }\n",
              "\n",
              "    .colab-df-convert:hover {\n",
              "      background-color: #E2EBFA;\n",
              "      box-shadow: 0px 1px 2px rgba(60, 64, 67, 0.3), 0px 1px 3px 1px rgba(60, 64, 67, 0.15);\n",
              "      fill: #174EA6;\n",
              "    }\n",
              "\n",
              "    [theme=dark] .colab-df-convert {\n",
              "      background-color: #3B4455;\n",
              "      fill: #D2E3FC;\n",
              "    }\n",
              "\n",
              "    [theme=dark] .colab-df-convert:hover {\n",
              "      background-color: #434B5C;\n",
              "      box-shadow: 0px 1px 3px 1px rgba(0, 0, 0, 0.15);\n",
              "      filter: drop-shadow(0px 1px 2px rgba(0, 0, 0, 0.3));\n",
              "      fill: #FFFFFF;\n",
              "    }\n",
              "  </style>\n",
              "\n",
              "      <script>\n",
              "        const buttonEl =\n",
              "          document.querySelector('#df-143baa64-7ca0-44f9-81e6-72f6113f94c9 button.colab-df-convert');\n",
              "        buttonEl.style.display =\n",
              "          google.colab.kernel.accessAllowed ? 'block' : 'none';\n",
              "\n",
              "        async function convertToInteractive(key) {\n",
              "          const element = document.querySelector('#df-143baa64-7ca0-44f9-81e6-72f6113f94c9');\n",
              "          const dataTable =\n",
              "            await google.colab.kernel.invokeFunction('convertToInteractive',\n",
              "                                                     [key], {});\n",
              "          if (!dataTable) return;\n",
              "\n",
              "          const docLinkHtml = 'Like what you see? Visit the ' +\n",
              "            '<a target=\"_blank\" href=https://colab.research.google.com/notebooks/data_table.ipynb>data table notebook</a>'\n",
              "            + ' to learn more about interactive tables.';\n",
              "          element.innerHTML = '';\n",
              "          dataTable['output_type'] = 'display_data';\n",
              "          await google.colab.output.renderOutput(dataTable, element);\n",
              "          const docLink = document.createElement('div');\n",
              "          docLink.innerHTML = docLinkHtml;\n",
              "          element.appendChild(docLink);\n",
              "        }\n",
              "      </script>\n",
              "    </div>\n",
              "  </div>\n",
              "  "
            ]
          },
          "metadata": {},
          "execution_count": 2
        }
      ],
      "source": [
        "df = pd.read_csv('onlinedeliverydata.csv')\n",
        "df.head()"
      ]
    },
    {
      "cell_type": "code",
      "source": [
        "df.shape"
      ],
      "metadata": {
        "colab": {
          "base_uri": "https://localhost:8080/"
        },
        "id": "nZrSVById9E9",
        "outputId": "afdd524f-6109-4aab-978a-8d0024d7a081"
      },
      "execution_count": 3,
      "outputs": [
        {
          "output_type": "execute_result",
          "data": {
            "text/plain": [
              "(388, 55)"
            ]
          },
          "metadata": {},
          "execution_count": 3
        }
      ]
    },
    {
      "cell_type": "markdown",
      "source": [
        "# 데이터 정리\n",
        "\n",
        "### 1. 필요 Columns\n",
        "\n",
        "* Age : 소비자 연령\n",
        "* Gender : 소비자 성별\n",
        "* Marital Status : 소비자의 혼인 여부\n",
        "* Occupation : 소비자 직업\n",
        "* Monthly Income : 소비자의 소득구간\n",
        "* Educational Qualifications : 소비자 학업\n",
        "* Family size : 가족 규모\n",
        "* latitude : 위도\n",
        "* longitude : 경도\n",
        "* Medium (P1) : 주문 매체(선호 1)\n",
        "* Meal(P1) : 식사 주문 종류(선호 1)\n",
        "* Output : 다시 구매할 의사\n",
        "\n"
      ],
      "metadata": {
        "id": "S3DsHQi28Yvr"
      }
    },
    {
      "cell_type": "code",
      "source": [
        "need_feature = ['Age', 'Gender', 'Marital Status', 'Occupation', 'Monthly Income', 'Educational Qualifications', 'Family size', 'latitude', 'longitude', 'Medium (P1)', 'Meal(P1)', 'Output' ]"
      ],
      "metadata": {
        "id": "Eh4t4Xf770Ln"
      },
      "execution_count": 4,
      "outputs": []
    },
    {
      "cell_type": "code",
      "source": [
        "df = df[need_feature]\n",
        "df.head()"
      ],
      "metadata": {
        "colab": {
          "base_uri": "https://localhost:8080/",
          "height": 337
        },
        "id": "CLilneIp8NTS",
        "outputId": "944c689c-e9d4-4616-c064-23a7ff50ad2a"
      },
      "execution_count": 5,
      "outputs": [
        {
          "output_type": "execute_result",
          "data": {
            "text/plain": [
              "   Age  Gender Marital Status Occupation  Monthly Income  \\\n",
              "0   20  Female         Single    Student       No Income   \n",
              "1   24  Female         Single    Student  Below Rs.10000   \n",
              "2   22    Male         Single    Student  Below Rs.10000   \n",
              "3   22  Female         Single    Student       No Income   \n",
              "4   22    Male         Single    Student  Below Rs.10000   \n",
              "\n",
              "  Educational Qualifications  Family size  latitude  longitude  \\\n",
              "0              Post Graduate            4   12.9766    77.5993   \n",
              "1                   Graduate            3   12.9770    77.5773   \n",
              "2              Post Graduate            3   12.9551    77.6593   \n",
              "3                   Graduate            6   12.9473    77.5616   \n",
              "4              Post Graduate            4   12.9850    77.5533   \n",
              "\n",
              "          Medium (P1)   Meal(P1) Output  \n",
              "0  Food delivery apps  Breakfast    Yes  \n",
              "1  Food delivery apps     Snacks    Yes  \n",
              "2  Food delivery apps      Lunch    Yes  \n",
              "3  Food delivery apps     Snacks    Yes  \n",
              "4             Walk-in      Lunch    Yes  "
            ],
            "text/html": [
              "\n",
              "  <div id=\"df-0f366790-7761-4bac-8e20-1ac0834aaae8\">\n",
              "    <div class=\"colab-df-container\">\n",
              "      <div>\n",
              "<style scoped>\n",
              "    .dataframe tbody tr th:only-of-type {\n",
              "        vertical-align: middle;\n",
              "    }\n",
              "\n",
              "    .dataframe tbody tr th {\n",
              "        vertical-align: top;\n",
              "    }\n",
              "\n",
              "    .dataframe thead th {\n",
              "        text-align: right;\n",
              "    }\n",
              "</style>\n",
              "<table border=\"1\" class=\"dataframe\">\n",
              "  <thead>\n",
              "    <tr style=\"text-align: right;\">\n",
              "      <th></th>\n",
              "      <th>Age</th>\n",
              "      <th>Gender</th>\n",
              "      <th>Marital Status</th>\n",
              "      <th>Occupation</th>\n",
              "      <th>Monthly Income</th>\n",
              "      <th>Educational Qualifications</th>\n",
              "      <th>Family size</th>\n",
              "      <th>latitude</th>\n",
              "      <th>longitude</th>\n",
              "      <th>Medium (P1)</th>\n",
              "      <th>Meal(P1)</th>\n",
              "      <th>Output</th>\n",
              "    </tr>\n",
              "  </thead>\n",
              "  <tbody>\n",
              "    <tr>\n",
              "      <th>0</th>\n",
              "      <td>20</td>\n",
              "      <td>Female</td>\n",
              "      <td>Single</td>\n",
              "      <td>Student</td>\n",
              "      <td>No Income</td>\n",
              "      <td>Post Graduate</td>\n",
              "      <td>4</td>\n",
              "      <td>12.9766</td>\n",
              "      <td>77.5993</td>\n",
              "      <td>Food delivery apps</td>\n",
              "      <td>Breakfast</td>\n",
              "      <td>Yes</td>\n",
              "    </tr>\n",
              "    <tr>\n",
              "      <th>1</th>\n",
              "      <td>24</td>\n",
              "      <td>Female</td>\n",
              "      <td>Single</td>\n",
              "      <td>Student</td>\n",
              "      <td>Below Rs.10000</td>\n",
              "      <td>Graduate</td>\n",
              "      <td>3</td>\n",
              "      <td>12.9770</td>\n",
              "      <td>77.5773</td>\n",
              "      <td>Food delivery apps</td>\n",
              "      <td>Snacks</td>\n",
              "      <td>Yes</td>\n",
              "    </tr>\n",
              "    <tr>\n",
              "      <th>2</th>\n",
              "      <td>22</td>\n",
              "      <td>Male</td>\n",
              "      <td>Single</td>\n",
              "      <td>Student</td>\n",
              "      <td>Below Rs.10000</td>\n",
              "      <td>Post Graduate</td>\n",
              "      <td>3</td>\n",
              "      <td>12.9551</td>\n",
              "      <td>77.6593</td>\n",
              "      <td>Food delivery apps</td>\n",
              "      <td>Lunch</td>\n",
              "      <td>Yes</td>\n",
              "    </tr>\n",
              "    <tr>\n",
              "      <th>3</th>\n",
              "      <td>22</td>\n",
              "      <td>Female</td>\n",
              "      <td>Single</td>\n",
              "      <td>Student</td>\n",
              "      <td>No Income</td>\n",
              "      <td>Graduate</td>\n",
              "      <td>6</td>\n",
              "      <td>12.9473</td>\n",
              "      <td>77.5616</td>\n",
              "      <td>Food delivery apps</td>\n",
              "      <td>Snacks</td>\n",
              "      <td>Yes</td>\n",
              "    </tr>\n",
              "    <tr>\n",
              "      <th>4</th>\n",
              "      <td>22</td>\n",
              "      <td>Male</td>\n",
              "      <td>Single</td>\n",
              "      <td>Student</td>\n",
              "      <td>Below Rs.10000</td>\n",
              "      <td>Post Graduate</td>\n",
              "      <td>4</td>\n",
              "      <td>12.9850</td>\n",
              "      <td>77.5533</td>\n",
              "      <td>Walk-in</td>\n",
              "      <td>Lunch</td>\n",
              "      <td>Yes</td>\n",
              "    </tr>\n",
              "  </tbody>\n",
              "</table>\n",
              "</div>\n",
              "      <button class=\"colab-df-convert\" onclick=\"convertToInteractive('df-0f366790-7761-4bac-8e20-1ac0834aaae8')\"\n",
              "              title=\"Convert this dataframe to an interactive table.\"\n",
              "              style=\"display:none;\">\n",
              "        \n",
              "  <svg xmlns=\"http://www.w3.org/2000/svg\" height=\"24px\"viewBox=\"0 0 24 24\"\n",
              "       width=\"24px\">\n",
              "    <path d=\"M0 0h24v24H0V0z\" fill=\"none\"/>\n",
              "    <path d=\"M18.56 5.44l.94 2.06.94-2.06 2.06-.94-2.06-.94-.94-2.06-.94 2.06-2.06.94zm-11 1L8.5 8.5l.94-2.06 2.06-.94-2.06-.94L8.5 2.5l-.94 2.06-2.06.94zm10 10l.94 2.06.94-2.06 2.06-.94-2.06-.94-.94-2.06-.94 2.06-2.06.94z\"/><path d=\"M17.41 7.96l-1.37-1.37c-.4-.4-.92-.59-1.43-.59-.52 0-1.04.2-1.43.59L10.3 9.45l-7.72 7.72c-.78.78-.78 2.05 0 2.83L4 21.41c.39.39.9.59 1.41.59.51 0 1.02-.2 1.41-.59l7.78-7.78 2.81-2.81c.8-.78.8-2.07 0-2.86zM5.41 20L4 18.59l7.72-7.72 1.47 1.35L5.41 20z\"/>\n",
              "  </svg>\n",
              "      </button>\n",
              "      \n",
              "  <style>\n",
              "    .colab-df-container {\n",
              "      display:flex;\n",
              "      flex-wrap:wrap;\n",
              "      gap: 12px;\n",
              "    }\n",
              "\n",
              "    .colab-df-convert {\n",
              "      background-color: #E8F0FE;\n",
              "      border: none;\n",
              "      border-radius: 50%;\n",
              "      cursor: pointer;\n",
              "      display: none;\n",
              "      fill: #1967D2;\n",
              "      height: 32px;\n",
              "      padding: 0 0 0 0;\n",
              "      width: 32px;\n",
              "    }\n",
              "\n",
              "    .colab-df-convert:hover {\n",
              "      background-color: #E2EBFA;\n",
              "      box-shadow: 0px 1px 2px rgba(60, 64, 67, 0.3), 0px 1px 3px 1px rgba(60, 64, 67, 0.15);\n",
              "      fill: #174EA6;\n",
              "    }\n",
              "\n",
              "    [theme=dark] .colab-df-convert {\n",
              "      background-color: #3B4455;\n",
              "      fill: #D2E3FC;\n",
              "    }\n",
              "\n",
              "    [theme=dark] .colab-df-convert:hover {\n",
              "      background-color: #434B5C;\n",
              "      box-shadow: 0px 1px 3px 1px rgba(0, 0, 0, 0.15);\n",
              "      filter: drop-shadow(0px 1px 2px rgba(0, 0, 0, 0.3));\n",
              "      fill: #FFFFFF;\n",
              "    }\n",
              "  </style>\n",
              "\n",
              "      <script>\n",
              "        const buttonEl =\n",
              "          document.querySelector('#df-0f366790-7761-4bac-8e20-1ac0834aaae8 button.colab-df-convert');\n",
              "        buttonEl.style.display =\n",
              "          google.colab.kernel.accessAllowed ? 'block' : 'none';\n",
              "\n",
              "        async function convertToInteractive(key) {\n",
              "          const element = document.querySelector('#df-0f366790-7761-4bac-8e20-1ac0834aaae8');\n",
              "          const dataTable =\n",
              "            await google.colab.kernel.invokeFunction('convertToInteractive',\n",
              "                                                     [key], {});\n",
              "          if (!dataTable) return;\n",
              "\n",
              "          const docLinkHtml = 'Like what you see? Visit the ' +\n",
              "            '<a target=\"_blank\" href=https://colab.research.google.com/notebooks/data_table.ipynb>data table notebook</a>'\n",
              "            + ' to learn more about interactive tables.';\n",
              "          element.innerHTML = '';\n",
              "          dataTable['output_type'] = 'display_data';\n",
              "          await google.colab.output.renderOutput(dataTable, element);\n",
              "          const docLink = document.createElement('div');\n",
              "          docLink.innerHTML = docLinkHtml;\n",
              "          element.appendChild(docLink);\n",
              "        }\n",
              "      </script>\n",
              "    </div>\n",
              "  </div>\n",
              "  "
            ]
          },
          "metadata": {},
          "execution_count": 5
        }
      ]
    },
    {
      "cell_type": "code",
      "source": [
        "!pip install category_encoders"
      ],
      "metadata": {
        "colab": {
          "base_uri": "https://localhost:8080/"
        },
        "id": "rQOtIL9-L-wV",
        "outputId": "8849a474-6c0a-48b9-84bf-6104ae2ef46b"
      },
      "execution_count": 6,
      "outputs": [
        {
          "output_type": "stream",
          "name": "stdout",
          "text": [
            "Looking in indexes: https://pypi.org/simple, https://us-python.pkg.dev/colab-wheels/public/simple/\n",
            "Collecting category_encoders\n",
            "  Downloading category_encoders-2.5.1.post0-py2.py3-none-any.whl (72 kB)\n",
            "\u001b[K     |████████████████████████████████| 72 kB 775 kB/s \n",
            "\u001b[?25hRequirement already satisfied: numpy>=1.14.0 in /usr/local/lib/python3.7/dist-packages (from category_encoders) (1.21.6)\n",
            "Requirement already satisfied: patsy>=0.5.1 in /usr/local/lib/python3.7/dist-packages (from category_encoders) (0.5.3)\n",
            "Requirement already satisfied: pandas>=1.0.5 in /usr/local/lib/python3.7/dist-packages (from category_encoders) (1.3.5)\n",
            "Requirement already satisfied: statsmodels>=0.9.0 in /usr/local/lib/python3.7/dist-packages (from category_encoders) (0.12.2)\n",
            "Requirement already satisfied: scikit-learn>=0.20.0 in /usr/local/lib/python3.7/dist-packages (from category_encoders) (1.0.2)\n",
            "Requirement already satisfied: scipy>=1.0.0 in /usr/local/lib/python3.7/dist-packages (from category_encoders) (1.7.3)\n",
            "Requirement already satisfied: pytz>=2017.3 in /usr/local/lib/python3.7/dist-packages (from pandas>=1.0.5->category_encoders) (2022.6)\n",
            "Requirement already satisfied: python-dateutil>=2.7.3 in /usr/local/lib/python3.7/dist-packages (from pandas>=1.0.5->category_encoders) (2.8.2)\n",
            "Requirement already satisfied: six in /usr/local/lib/python3.7/dist-packages (from patsy>=0.5.1->category_encoders) (1.15.0)\n",
            "Requirement already satisfied: joblib>=0.11 in /usr/local/lib/python3.7/dist-packages (from scikit-learn>=0.20.0->category_encoders) (1.2.0)\n",
            "Requirement already satisfied: threadpoolctl>=2.0.0 in /usr/local/lib/python3.7/dist-packages (from scikit-learn>=0.20.0->category_encoders) (3.1.0)\n",
            "Installing collected packages: category-encoders\n",
            "Successfully installed category-encoders-2.5.1.post0\n"
          ]
        }
      ]
    },
    {
      "cell_type": "code",
      "source": [
        "from sklearn.cluster import KMeans\n",
        "from category_encoders import OrdinalEncoder\n",
        "\n",
        "ordinal = OrdinalEncoder(cols = ['Gender', 'Marital Status', 'Occupation', 'Monthly Income', 'Educational Qualifications', 'Medium (P1)', 'Meal(P1)', 'Output'])\n",
        "ordinal_df = ordinal.fit_transform(df)\n",
        "\n",
        "sse = {}\n",
        "\n",
        "for k in range(1,10):\n",
        "  kmeans = KMeans(n_clusters=k, random_state=1)\n",
        "  kmeans.fit(ordinal_df[['Monthly Income', 'Output']])\n",
        "  sse[k] = kmeans.inertia_"
      ],
      "metadata": {
        "id": "nxCiolYiG-we"
      },
      "execution_count": 7,
      "outputs": []
    },
    {
      "cell_type": "code",
      "source": [
        "import matplotlib.pyplot as plt\n",
        "import seaborn as sns\n",
        "\n",
        "plt.title('The Elbow Method')\n",
        "plt.xlabel('Values of k')\n",
        "plt.ylabel('SSE')\n",
        "sns.pointplot(x=list(sse.keys()), y=list(sse.values()))\n",
        "plt.show()"
      ],
      "metadata": {
        "colab": {
          "base_uri": "https://localhost:8080/",
          "height": 295
        },
        "id": "-imuNPAoMjJU",
        "outputId": "36f33888-7cca-4ab3-d722-d1b58437d839"
      },
      "execution_count": 8,
      "outputs": [
        {
          "output_type": "display_data",
          "data": {
            "text/plain": [
              "<Figure size 432x288 with 1 Axes>"
            ],
            "image/png": "[encoded data removed]"
          },
          "metadata": {
            "needs_background": "light"
          }
        }
      ]
    },
    {
      "cell_type": "code",
      "source": [
        "# 최종 모델 학습\n",
        "kmeans = KMeans(n_clusters=2, max_iter=50, random_state=42)\n",
        "kmeans.fit(ordinal_df[['Monthly Income', 'Output']])\n",
        "\n",
        "# 해당 과정을 통해 \n",
        "cluster_labels = kmeans.labels_\n",
        "\n",
        "df = df.assign(Cluster = cluster_labels)"
      ],
      "metadata": {
        "id": "xY2RDDxYNXZn"
      },
      "execution_count": 9,
      "outputs": []
    },
    {
      "cell_type": "code",
      "source": [
        "# GPS위치를 기반으로 클러스터 분석 \n",
        "sns.scatterplot(x=df['latitude'], y=df['longitude'], hue=df['Cluster']);"
      ],
      "metadata": {
        "colab": {
          "base_uri": "https://localhost:8080/",
          "height": 279
        },
        "id": "UYrB51O7OLUe",
        "outputId": "2b6d8e83-55ce-4b7d-a3aa-a096232f8373"
      },
      "execution_count": 10,
      "outputs": [
        {
          "output_type": "display_data",
          "data": {
            "text/plain": [
              "<Figure size 432x288 with 1 Axes>"
            ],
            "image/png": "[encoded data removed]"
          },
          "metadata": {
            "needs_background": "light"
          }
        }
      ]
    },
    {
      "cell_type": "code",
      "source": [
        "df[df['Output'] == 'Yes'].groupby(['Cluster'])['Monthly Income'].value_counts()"
      ],
      "metadata": {
        "colab": {
          "base_uri": "https://localhost:8080/"
        },
        "id": "TI6XwnhP32HM",
        "outputId": "55455202-762a-4c83-9d2a-ca151e01cd22"
      },
      "execution_count": 11,
      "outputs": [
        {
          "output_type": "execute_result",
          "data": {
            "text/plain": [
              "Cluster  Monthly Income \n",
              "0        More than 50000     44\n",
              "         25001 to 50000      42\n",
              "         10001 to 25000      32\n",
              "1        No Income          164\n",
              "         Below Rs.10000      19\n",
              "Name: Monthly Income, dtype: int64"
            ]
          },
          "metadata": {},
          "execution_count": 11
        }
      ]
    },
    {
      "cell_type": "code",
      "source": [
        "df = df.astype({'Cluster':'category'})"
      ],
      "metadata": {
        "id": "PKkKlahAy8BK"
      },
      "execution_count": 12,
      "outputs": []
    },
    {
      "cell_type": "code",
      "source": [
        "# 해당 그래프를 통해 재구매 의사가 있는 클러스터 0집단이 고소득구간임을 파악할 수 있다.\n",
        "# 고로 0 클러스터는 상대적으로 주문을 할 확률이 높은 집단이라고 할 수 있다.\n",
        "ax = df[df['Output'] == 'Yes'].groupby(['Cluster'])['Monthly Income'].value_counts().plot(kind='bar')\n",
        "ax.set_ylabel('People Count');"
      ],
      "metadata": {
        "colab": {
          "base_uri": "https://localhost:8080/",
          "height": 375
        },
        "id": "fgZgGLv-2gHP",
        "outputId": "72a4ec60-857a-4aa0-86d7-3590fa4cc4c0"
      },
      "execution_count": 13,
      "outputs": [
        {
          "output_type": "display_data",
          "data": {
            "text/plain": [
              "<Figure size 432x288 with 1 Axes>"
            ],
            "image/png": "[encoded data removed]"
          },
          "metadata": {
            "needs_background": "light"
          }
        }
      ]
    },
    {
      "cell_type": "code",
      "source": [
        "target = 'Cluster'"
      ],
      "metadata": {
        "id": "wI34b0Ke6kLF"
      },
      "execution_count": 14,
      "outputs": []
    },
    {
      "cell_type": "code",
      "source": [
        "# 데이터 누수 방지를 위한 Columns 삭제\n",
        "df = df.drop(columns=['Monthly Income', 'Output'])"
      ],
      "metadata": {
        "id": "VIBanI6zAVIk"
      },
      "execution_count": 15,
      "outputs": []
    },
    {
      "cell_type": "code",
      "source": [
        "from sklearn.model_selection import train_test_split\n",
        "\n",
        "train, val = train_test_split(df, train_size=0.80, test_size=0.20, \n",
        "                              stratify=df[target], random_state=42)"
      ],
      "metadata": {
        "id": "6PykSMSo8rsa"
      },
      "execution_count": 16,
      "outputs": []
    },
    {
      "cell_type": "code",
      "source": [
        "train, test = train_test_split(train, train_size=0.80, test_size=0.20, \n",
        "                              stratify=train[target], random_state=42)"
      ],
      "metadata": {
        "id": "3qLgNf0z-CL8"
      },
      "execution_count": 17,
      "outputs": []
    },
    {
      "cell_type": "code",
      "source": [
        "X_train = train.drop(columns=target)\n",
        "y_train = train[target]\n",
        "X_val = val.drop(columns=target)\n",
        "y_val = val[target]\n",
        "X_test = test.drop(columns=target)"
      ],
      "metadata": {
        "id": "XhcI_OHY9rge"
      },
      "execution_count": 18,
      "outputs": []
    },
    {
      "cell_type": "code",
      "source": [
        "from sklearn.impute import SimpleImputer\n",
        "from sklearn.ensemble import RandomForestClassifier\n",
        "from sklearn.model_selection import train_test_split\n",
        "from sklearn.pipeline import make_pipeline\n",
        "from sklearn.model_selection import RandomizedSearchCV\n",
        "from scipy.stats import randint, uniform\n",
        "from sklearn.metrics import classification_report\n",
        "from sklearn.tree import DecisionTreeClassifier"
      ],
      "metadata": {
        "id": "SNy4t1039_pD"
      },
      "execution_count": 19,
      "outputs": []
    },
    {
      "cell_type": "code",
      "source": [
        "pipe = make_pipeline(\n",
        "    OrdinalEncoder(), \n",
        "    DecisionTreeClassifier(max_depth=5, random_state=2)\n",
        ")\n",
        "\n",
        "pipe.fit(X_train, y_train)\n",
        "print('검증 정확도: ', pipe.score(X_val, y_val))"
      ],
      "metadata": {
        "colab": {
          "base_uri": "https://localhost:8080/"
        },
        "id": "C95E7p2GCDMy",
        "outputId": "86c19b7c-951b-4b07-98c7-2fad2f191877"
      },
      "execution_count": 20,
      "outputs": [
        {
          "output_type": "stream",
          "name": "stdout",
          "text": [
            "검증 정확도:  0.9230769230769231\n"
          ]
        }
      ]
    },
    {
      "cell_type": "code",
      "source": [
        "import graphviz\n",
        "from sklearn.tree import export_graphviz\n",
        "\n",
        "tree = pipe.named_steps['decisiontreeclassifier']\n",
        "\n",
        "dot_data = export_graphviz(\n",
        "    tree,\n",
        "    feature_names=X_train.columns, \n",
        "    class_names=y_train.unique().astype(str), \n",
        "    filled=True, \n",
        "    proportion=True\n",
        ")\n",
        "\n",
        "graphviz.Source(dot_data)"
      ],
      "metadata": {
        "colab": {
          "base_uri": "https://localhost:8080/",
          "height": 937
        },
        "id": "oKMv4jvdCKPr",
        "outputId": "8be56fe9-8344-46bf-96de-595b77c910e3"
      },
      "execution_count": 21,
      "outputs": [
        {
          "output_type": "execute_result",
          "data": {
            "text/plain": [
              "<graphviz.files.Source at 0x7f88d4aa2e90>"
            ],
            "image/svg+xml": "<?xml version=\"1.0\" encoding=\"UTF-8\" standalone=\"no\"?>\n<!DOCTYPE svg PUBLIC \"-//W3C//DTD SVG 1.1//EN\"\n \"http://www.w3.org/Graphics/SVG/1.1/DTD/svg11.dtd\">\n<!-- Generated by graphviz version 2.40.1 (20161225.0304)\n -->\n<!-- Title: Tree Pages: 1 -->\n<svg width=\"1590pt\" height=\"671pt\"\n viewBox=\"0.00 0.00 1589.50 671.00\" xmlns=\"http://www.w3.org/2000/svg\" xmlns:xlink=\"http://www.w3.org/1999/xlink\">\n<g id=\"graph0\" class=\"graph\" transform=\"scale(1 1) rotate(0) translate(4 667)\">\n<title>Tree</title>\n<polygon fill=\"#ffffff\" stroke=\"transparent\" points=\"-4,4 -4,-667 1585.5,-667 1585.5,4 -4,4\"/>\n<!-- 0 -->\n<g id=\"node1\" class=\"node\">\n<title>0</title>\n<polygon fill=\"#dfeffb\" stroke=\"#000000\" points=\"919.5,-663 763.5,-663 763.5,-580 919.5,-580 919.5,-663\"/>\n<text text-anchor=\"middle\" x=\"841.5\" y=\"-647.8\" font-family=\"Helvetica,sans-Serif\" font-size=\"14.00\" fill=\"#000000\">Occupation &lt;= 1.5</text>\n<text text-anchor=\"middle\" x=\"841.5\" y=\"-632.8\" font-family=\"Helvetica,sans-Serif\" font-size=\"14.00\" fill=\"#000000\">gini = 0.496</text>\n<text text-anchor=\"middle\" x=\"841.5\" y=\"-617.8\" font-family=\"Helvetica,sans-Serif\" font-size=\"14.00\" fill=\"#000000\">samples = 100.0%</text>\n<text text-anchor=\"middle\" x=\"841.5\" y=\"-602.8\" font-family=\"Helvetica,sans-Serif\" font-size=\"14.00\" fill=\"#000000\">value = [0.456, 0.544]</text>\n<text text-anchor=\"middle\" x=\"841.5\" y=\"-587.8\" font-family=\"Helvetica,sans-Serif\" font-size=\"14.00\" fill=\"#000000\">class = 0</text>\n</g>\n<!-- 1 -->\n<g id=\"node2\" class=\"node\">\n<title>1</title>\n<polygon fill=\"#4aa5e7\" stroke=\"#000000\" points=\"695.5,-544 555.5,-544 555.5,-461 695.5,-461 695.5,-544\"/>\n<text text-anchor=\"middle\" x=\"625.5\" y=\"-528.8\" font-family=\"Helvetica,sans-Serif\" font-size=\"14.00\" fill=\"#000000\">longitude &lt;= 77.57</text>\n<text text-anchor=\"middle\" x=\"625.5\" y=\"-513.8\" font-family=\"Helvetica,sans-Serif\" font-size=\"14.00\" fill=\"#000000\">gini = 0.147</text>\n<text text-anchor=\"middle\" x=\"625.5\" y=\"-498.8\" font-family=\"Helvetica,sans-Serif\" font-size=\"14.00\" fill=\"#000000\">samples = 55.6%</text>\n<text text-anchor=\"middle\" x=\"625.5\" y=\"-483.8\" font-family=\"Helvetica,sans-Serif\" font-size=\"14.00\" fill=\"#000000\">value = [0.08, 0.92]</text>\n<text text-anchor=\"middle\" x=\"625.5\" y=\"-468.8\" font-family=\"Helvetica,sans-Serif\" font-size=\"14.00\" fill=\"#000000\">class = 0</text>\n</g>\n<!-- 0&#45;&gt;1 -->\n<g id=\"edge1\" class=\"edge\">\n<title>0&#45;&gt;1</title>\n<path fill=\"none\" stroke=\"#000000\" d=\"M765.9537,-579.8796C746.0305,-568.9034 724.483,-557.0323 704.3885,-545.9617\"/>\n<polygon fill=\"#000000\" stroke=\"#000000\" points=\"706.0207,-542.865 695.5731,-541.1051 702.6429,-548.9961 706.0207,-542.865\"/>\n<text text-anchor=\"middle\" x=\"702.5262\" y=\"-561.4187\" font-family=\"Helvetica,sans-Serif\" font-size=\"14.00\" fill=\"#000000\">True</text>\n</g>\n<!-- 18 -->\n<g id=\"node19\" class=\"node\">\n<title>18</title>\n<polygon fill=\"#e78b49\" stroke=\"#000000\" points=\"1112.5,-544 956.5,-544 956.5,-461 1112.5,-461 1112.5,-544\"/>\n<text text-anchor=\"middle\" x=\"1034.5\" y=\"-528.8\" font-family=\"Helvetica,sans-Serif\" font-size=\"14.00\" fill=\"#000000\">Occupation &lt;= 3.5</text>\n<text text-anchor=\"middle\" x=\"1034.5\" y=\"-513.8\" font-family=\"Helvetica,sans-Serif\" font-size=\"14.00\" fill=\"#000000\">gini = 0.135</text>\n<text text-anchor=\"middle\" x=\"1034.5\" y=\"-498.8\" font-family=\"Helvetica,sans-Serif\" font-size=\"14.00\" fill=\"#000000\">samples = 44.4%</text>\n<text text-anchor=\"middle\" x=\"1034.5\" y=\"-483.8\" font-family=\"Helvetica,sans-Serif\" font-size=\"14.00\" fill=\"#000000\">value = [0.927, 0.073]</text>\n<text text-anchor=\"middle\" x=\"1034.5\" y=\"-468.8\" font-family=\"Helvetica,sans-Serif\" font-size=\"14.00\" fill=\"#000000\">class = 1</text>\n</g>\n<!-- 0&#45;&gt;18 -->\n<g id=\"edge18\" class=\"edge\">\n<title>0&#45;&gt;18</title>\n<path fill=\"none\" stroke=\"#000000\" d=\"M909.002,-579.8796C924.8692,-570.0962 941.8894,-559.6019 958.1156,-549.5971\"/>\n<polygon fill=\"#000000\" stroke=\"#000000\" points=\"960.361,-552.3245 967.0361,-544.0969 956.6871,-546.3661 960.361,-552.3245\"/>\n<text text-anchor=\"middle\" x=\"961.2666\" y=\"-564.7221\" font-family=\"Helvetica,sans-Serif\" font-size=\"14.00\" fill=\"#000000\">False</text>\n</g>\n<!-- 2 -->\n<g id=\"node3\" class=\"node\">\n<title>2</title>\n<polygon fill=\"#6eb7ec\" stroke=\"#000000\" points=\"457.5,-425 301.5,-425 301.5,-342 457.5,-342 457.5,-425\"/>\n<text text-anchor=\"middle\" x=\"379.5\" y=\"-409.8\" font-family=\"Helvetica,sans-Serif\" font-size=\"14.00\" fill=\"#000000\">longitude &lt;= 77.566</text>\n<text text-anchor=\"middle\" x=\"379.5\" y=\"-394.8\" font-family=\"Helvetica,sans-Serif\" font-size=\"14.00\" fill=\"#000000\">gini = 0.332</text>\n<text text-anchor=\"middle\" x=\"379.5\" y=\"-379.8\" font-family=\"Helvetica,sans-Serif\" font-size=\"14.00\" fill=\"#000000\">samples = 15.3%</text>\n<text text-anchor=\"middle\" x=\"379.5\" y=\"-364.8\" font-family=\"Helvetica,sans-Serif\" font-size=\"14.00\" fill=\"#000000\">value = [0.211, 0.789]</text>\n<text text-anchor=\"middle\" x=\"379.5\" y=\"-349.8\" font-family=\"Helvetica,sans-Serif\" font-size=\"14.00\" fill=\"#000000\">class = 0</text>\n</g>\n<!-- 1&#45;&gt;2 -->\n<g id=\"edge2\" class=\"edge\">\n<title>1&#45;&gt;2</title>\n<path fill=\"none\" stroke=\"#000000\" d=\"M555.3355,-468.5586C527.7843,-455.231 495.8665,-439.7911 466.8468,-425.7531\"/>\n<polygon fill=\"#000000\" stroke=\"#000000\" points=\"468.0621,-422.4531 457.5359,-421.2491 465.0138,-428.7545 468.0621,-422.4531\"/>\n</g>\n<!-- 9 -->\n<g id=\"node10\" class=\"node\">\n<title>9</title>\n<polygon fill=\"#3fa0e6\" stroke=\"#000000\" points=\"695.5,-425 555.5,-425 555.5,-342 695.5,-342 695.5,-425\"/>\n<text text-anchor=\"middle\" x=\"625.5\" y=\"-409.8\" font-family=\"Helvetica,sans-Serif\" font-size=\"14.00\" fill=\"#000000\">latitude &lt;= 13.075</text>\n<text text-anchor=\"middle\" x=\"625.5\" y=\"-394.8\" font-family=\"Helvetica,sans-Serif\" font-size=\"14.00\" fill=\"#000000\">gini = 0.058</text>\n<text text-anchor=\"middle\" x=\"625.5\" y=\"-379.8\" font-family=\"Helvetica,sans-Serif\" font-size=\"14.00\" fill=\"#000000\">samples = 40.3%</text>\n<text text-anchor=\"middle\" x=\"625.5\" y=\"-364.8\" font-family=\"Helvetica,sans-Serif\" font-size=\"14.00\" fill=\"#000000\">value = [0.03, 0.97]</text>\n<text text-anchor=\"middle\" x=\"625.5\" y=\"-349.8\" font-family=\"Helvetica,sans-Serif\" font-size=\"14.00\" fill=\"#000000\">class = 0</text>\n</g>\n<!-- 1&#45;&gt;9 -->\n<g id=\"edge9\" class=\"edge\">\n<title>1&#45;&gt;9</title>\n<path fill=\"none\" stroke=\"#000000\" d=\"M625.5,-460.8796C625.5,-452.6838 625.5,-443.9891 625.5,-435.5013\"/>\n<polygon fill=\"#000000\" stroke=\"#000000\" points=\"629.0001,-435.298 625.5,-425.2981 622.0001,-435.2981 629.0001,-435.298\"/>\n</g>\n<!-- 3 -->\n<g id=\"node4\" class=\"node\">\n<title>3</title>\n<polygon fill=\"#61b1ea\" stroke=\"#000000\" points=\"297.5,-306 141.5,-306 141.5,-223 297.5,-223 297.5,-306\"/>\n<text text-anchor=\"middle\" x=\"219.5\" y=\"-290.8\" font-family=\"Helvetica,sans-Serif\" font-size=\"14.00\" fill=\"#000000\">Family size &lt;= 1.5</text>\n<text text-anchor=\"middle\" x=\"219.5\" y=\"-275.8\" font-family=\"Helvetica,sans-Serif\" font-size=\"14.00\" fill=\"#000000\">gini = 0.278</text>\n<text text-anchor=\"middle\" x=\"219.5\" y=\"-260.8\" font-family=\"Helvetica,sans-Serif\" font-size=\"14.00\" fill=\"#000000\">samples = 14.5%</text>\n<text text-anchor=\"middle\" x=\"219.5\" y=\"-245.8\" font-family=\"Helvetica,sans-Serif\" font-size=\"14.00\" fill=\"#000000\">value = [0.167, 0.833]</text>\n<text text-anchor=\"middle\" x=\"219.5\" y=\"-230.8\" font-family=\"Helvetica,sans-Serif\" font-size=\"14.00\" fill=\"#000000\">class = 0</text>\n</g>\n<!-- 2&#45;&gt;3 -->\n<g id=\"edge3\" class=\"edge\">\n<title>2&#45;&gt;3</title>\n<path fill=\"none\" stroke=\"#000000\" d=\"M323.5398,-341.8796C310.6292,-332.2774 296.7979,-321.9903 283.5718,-312.1534\"/>\n<polygon fill=\"#000000\" stroke=\"#000000\" points=\"285.5414,-309.2564 275.4286,-306.0969 281.3639,-314.8732 285.5414,-309.2564\"/>\n</g>\n<!-- 8 -->\n<g id=\"node9\" class=\"node\">\n<title>8</title>\n<polygon fill=\"#e58139\" stroke=\"#000000\" points=\"441,-298.5 318,-298.5 318,-230.5 441,-230.5 441,-298.5\"/>\n<text text-anchor=\"middle\" x=\"379.5\" y=\"-283.3\" font-family=\"Helvetica,sans-Serif\" font-size=\"14.00\" fill=\"#000000\">gini = 0.0</text>\n<text text-anchor=\"middle\" x=\"379.5\" y=\"-268.3\" font-family=\"Helvetica,sans-Serif\" font-size=\"14.00\" fill=\"#000000\">samples = 0.8%</text>\n<text text-anchor=\"middle\" x=\"379.5\" y=\"-253.3\" font-family=\"Helvetica,sans-Serif\" font-size=\"14.00\" fill=\"#000000\">value = [1.0, 0.0]</text>\n<text text-anchor=\"middle\" x=\"379.5\" y=\"-238.3\" font-family=\"Helvetica,sans-Serif\" font-size=\"14.00\" fill=\"#000000\">class = 1</text>\n</g>\n<!-- 2&#45;&gt;8 -->\n<g id=\"edge8\" class=\"edge\">\n<title>2&#45;&gt;8</title>\n<path fill=\"none\" stroke=\"#000000\" d=\"M379.5,-341.8796C379.5,-331.2134 379.5,-319.7021 379.5,-308.9015\"/>\n<polygon fill=\"#000000\" stroke=\"#000000\" points=\"383.0001,-308.8149 379.5,-298.8149 376.0001,-308.815 383.0001,-308.8149\"/>\n</g>\n<!-- 4 -->\n<g id=\"node5\" class=\"node\">\n<title>4</title>\n<polygon fill=\"#e58139\" stroke=\"#000000\" points=\"123,-179.5 0,-179.5 0,-111.5 123,-111.5 123,-179.5\"/>\n<text text-anchor=\"middle\" x=\"61.5\" y=\"-164.3\" font-family=\"Helvetica,sans-Serif\" font-size=\"14.00\" fill=\"#000000\">gini = 0.0</text>\n<text text-anchor=\"middle\" x=\"61.5\" y=\"-149.3\" font-family=\"Helvetica,sans-Serif\" font-size=\"14.00\" fill=\"#000000\">samples = 0.4%</text>\n<text text-anchor=\"middle\" x=\"61.5\" y=\"-134.3\" font-family=\"Helvetica,sans-Serif\" font-size=\"14.00\" fill=\"#000000\">value = [1.0, 0.0]</text>\n<text text-anchor=\"middle\" x=\"61.5\" y=\"-119.3\" font-family=\"Helvetica,sans-Serif\" font-size=\"14.00\" fill=\"#000000\">class = 1</text>\n</g>\n<!-- 3&#45;&gt;4 -->\n<g id=\"edge4\" class=\"edge\">\n<title>3&#45;&gt;4</title>\n<path fill=\"none\" stroke=\"#000000\" d=\"M164.2393,-222.8796C148.2497,-210.8368 130.8297,-197.7167 114.9526,-185.7586\"/>\n<polygon fill=\"#000000\" stroke=\"#000000\" points=\"116.8998,-182.8435 106.8062,-179.623 112.6884,-188.435 116.8998,-182.8435\"/>\n</g>\n<!-- 5 -->\n<g id=\"node6\" class=\"node\">\n<title>5</title>\n<polygon fill=\"#5aade9\" stroke=\"#000000\" points=\"297.5,-187 141.5,-187 141.5,-104 297.5,-104 297.5,-187\"/>\n<text text-anchor=\"middle\" x=\"219.5\" y=\"-171.8\" font-family=\"Helvetica,sans-Serif\" font-size=\"14.00\" fill=\"#000000\">latitude &lt;= 12.989</text>\n<text text-anchor=\"middle\" x=\"219.5\" y=\"-156.8\" font-family=\"Helvetica,sans-Serif\" font-size=\"14.00\" fill=\"#000000\">gini = 0.245</text>\n<text text-anchor=\"middle\" x=\"219.5\" y=\"-141.8\" font-family=\"Helvetica,sans-Serif\" font-size=\"14.00\" fill=\"#000000\">samples = 14.1%</text>\n<text text-anchor=\"middle\" x=\"219.5\" y=\"-126.8\" font-family=\"Helvetica,sans-Serif\" font-size=\"14.00\" fill=\"#000000\">value = [0.143, 0.857]</text>\n<text text-anchor=\"middle\" x=\"219.5\" y=\"-111.8\" font-family=\"Helvetica,sans-Serif\" font-size=\"14.00\" fill=\"#000000\">class = 0</text>\n</g>\n<!-- 3&#45;&gt;5 -->\n<g id=\"edge5\" class=\"edge\">\n<title>3&#45;&gt;5</title>\n<path fill=\"none\" stroke=\"#000000\" d=\"M219.5,-222.8796C219.5,-214.6838 219.5,-205.9891 219.5,-197.5013\"/>\n<polygon fill=\"#000000\" stroke=\"#000000\" points=\"223.0001,-197.298 219.5,-187.2981 216.0001,-197.2981 223.0001,-197.298\"/>\n</g>\n<!-- 6 -->\n<g id=\"node7\" class=\"node\">\n<title>6</title>\n<polygon fill=\"#7bbeee\" stroke=\"#000000\" points=\"148.5,-68 8.5,-68 8.5,0 148.5,0 148.5,-68\"/>\n<text text-anchor=\"middle\" x=\"78.5\" y=\"-52.8\" font-family=\"Helvetica,sans-Serif\" font-size=\"14.00\" fill=\"#000000\">gini = 0.375</text>\n<text text-anchor=\"middle\" x=\"78.5\" y=\"-37.8\" font-family=\"Helvetica,sans-Serif\" font-size=\"14.00\" fill=\"#000000\">samples = 8.1%</text>\n<text text-anchor=\"middle\" x=\"78.5\" y=\"-22.8\" font-family=\"Helvetica,sans-Serif\" font-size=\"14.00\" fill=\"#000000\">value = [0.25, 0.75]</text>\n<text text-anchor=\"middle\" x=\"78.5\" y=\"-7.8\" font-family=\"Helvetica,sans-Serif\" font-size=\"14.00\" fill=\"#000000\">class = 0</text>\n</g>\n<!-- 5&#45;&gt;6 -->\n<g id=\"edge6\" class=\"edge\">\n<title>5&#45;&gt;6</title>\n<path fill=\"none\" stroke=\"#000000\" d=\"M166.9968,-103.9815C154.7934,-94.3313 141.819,-84.0714 129.6739,-74.4673\"/>\n<polygon fill=\"#000000\" stroke=\"#000000\" points=\"131.8438,-71.7211 121.829,-68.2637 127.5018,-77.2118 131.8438,-71.7211\"/>\n</g>\n<!-- 7 -->\n<g id=\"node8\" class=\"node\">\n<title>7</title>\n<polygon fill=\"#399de5\" stroke=\"#000000\" points=\"290,-68 167,-68 167,0 290,0 290,-68\"/>\n<text text-anchor=\"middle\" x=\"228.5\" y=\"-52.8\" font-family=\"Helvetica,sans-Serif\" font-size=\"14.00\" fill=\"#000000\">gini = 0.0</text>\n<text text-anchor=\"middle\" x=\"228.5\" y=\"-37.8\" font-family=\"Helvetica,sans-Serif\" font-size=\"14.00\" fill=\"#000000\">samples = 6.0%</text>\n<text text-anchor=\"middle\" x=\"228.5\" y=\"-22.8\" font-family=\"Helvetica,sans-Serif\" font-size=\"14.00\" fill=\"#000000\">value = [0.0, 1.0]</text>\n<text text-anchor=\"middle\" x=\"228.5\" y=\"-7.8\" font-family=\"Helvetica,sans-Serif\" font-size=\"14.00\" fill=\"#000000\">class = 0</text>\n</g>\n<!-- 5&#45;&gt;7 -->\n<g id=\"edge7\" class=\"edge\">\n<title>5&#45;&gt;7</title>\n<path fill=\"none\" stroke=\"#000000\" d=\"M222.8513,-103.9815C223.5263,-95.618 224.2384,-86.7965 224.9209,-78.3409\"/>\n<polygon fill=\"#000000\" stroke=\"#000000\" points=\"228.4183,-78.5129 225.7343,-68.2637 221.441,-77.9496 228.4183,-78.5129\"/>\n</g>\n<!-- 10 -->\n<g id=\"node11\" class=\"node\">\n<title>10</title>\n<polygon fill=\"#3d9fe6\" stroke=\"#000000\" points=\"620.5,-306 480.5,-306 480.5,-223 620.5,-223 620.5,-306\"/>\n<text text-anchor=\"middle\" x=\"550.5\" y=\"-290.8\" font-family=\"Helvetica,sans-Serif\" font-size=\"14.00\" fill=\"#000000\">Meal(P1) &lt;= 1.5</text>\n<text text-anchor=\"middle\" x=\"550.5\" y=\"-275.8\" font-family=\"Helvetica,sans-Serif\" font-size=\"14.00\" fill=\"#000000\">gini = 0.04</text>\n<text text-anchor=\"middle\" x=\"550.5\" y=\"-260.8\" font-family=\"Helvetica,sans-Serif\" font-size=\"14.00\" fill=\"#000000\">samples = 39.5%</text>\n<text text-anchor=\"middle\" x=\"550.5\" y=\"-245.8\" font-family=\"Helvetica,sans-Serif\" font-size=\"14.00\" fill=\"#000000\">value = [0.02, 0.98]</text>\n<text text-anchor=\"middle\" x=\"550.5\" y=\"-230.8\" font-family=\"Helvetica,sans-Serif\" font-size=\"14.00\" fill=\"#000000\">class = 0</text>\n</g>\n<!-- 9&#45;&gt;10 -->\n<g id=\"edge10\" class=\"edge\">\n<title>9&#45;&gt;10</title>\n<path fill=\"none\" stroke=\"#000000\" d=\"M599.2686,-341.8796C593.7627,-333.1434 587.8994,-323.8404 582.2176,-314.8253\"/>\n<polygon fill=\"#000000\" stroke=\"#000000\" points=\"585.1363,-312.8919 576.8433,-306.2981 579.2143,-316.6242 585.1363,-312.8919\"/>\n</g>\n<!-- 15 -->\n<g id=\"node16\" class=\"node\">\n<title>15</title>\n<polygon fill=\"#ffffff\" stroke=\"#000000\" points=\"762,-306 639,-306 639,-223 762,-223 762,-306\"/>\n<text text-anchor=\"middle\" x=\"700.5\" y=\"-290.8\" font-family=\"Helvetica,sans-Serif\" font-size=\"14.00\" fill=\"#000000\">Age &lt;= 23.5</text>\n<text text-anchor=\"middle\" x=\"700.5\" y=\"-275.8\" font-family=\"Helvetica,sans-Serif\" font-size=\"14.00\" fill=\"#000000\">gini = 0.5</text>\n<text text-anchor=\"middle\" x=\"700.5\" y=\"-260.8\" font-family=\"Helvetica,sans-Serif\" font-size=\"14.00\" fill=\"#000000\">samples = 0.8%</text>\n<text text-anchor=\"middle\" x=\"700.5\" y=\"-245.8\" font-family=\"Helvetica,sans-Serif\" font-size=\"14.00\" fill=\"#000000\">value = [0.5, 0.5]</text>\n<text text-anchor=\"middle\" x=\"700.5\" y=\"-230.8\" font-family=\"Helvetica,sans-Serif\" font-size=\"14.00\" fill=\"#000000\">class = 1</text>\n</g>\n<!-- 9&#45;&gt;15 -->\n<g id=\"edge15\" class=\"edge\">\n<title>9&#45;&gt;15</title>\n<path fill=\"none\" stroke=\"#000000\" d=\"M651.7314,-341.8796C657.2373,-333.1434 663.1006,-323.8404 668.7824,-314.8253\"/>\n<polygon fill=\"#000000\" stroke=\"#000000\" points=\"671.7857,-316.6242 674.1567,-306.2981 665.8637,-312.8919 671.7857,-316.6242\"/>\n</g>\n<!-- 11 -->\n<g id=\"node12\" class=\"node\">\n<title>11</title>\n<polygon fill=\"#52a9e8\" stroke=\"#000000\" points=\"471.5,-187 315.5,-187 315.5,-104 471.5,-104 471.5,-187\"/>\n<text text-anchor=\"middle\" x=\"393.5\" y=\"-171.8\" font-family=\"Helvetica,sans-Serif\" font-size=\"14.00\" fill=\"#000000\">latitude &lt;= 12.97</text>\n<text text-anchor=\"middle\" x=\"393.5\" y=\"-156.8\" font-family=\"Helvetica,sans-Serif\" font-size=\"14.00\" fill=\"#000000\">gini = 0.198</text>\n<text text-anchor=\"middle\" x=\"393.5\" y=\"-141.8\" font-family=\"Helvetica,sans-Serif\" font-size=\"14.00\" fill=\"#000000\">samples = 7.3%</text>\n<text text-anchor=\"middle\" x=\"393.5\" y=\"-126.8\" font-family=\"Helvetica,sans-Serif\" font-size=\"14.00\" fill=\"#000000\">value = [0.111, 0.889]</text>\n<text text-anchor=\"middle\" x=\"393.5\" y=\"-111.8\" font-family=\"Helvetica,sans-Serif\" font-size=\"14.00\" fill=\"#000000\">class = 0</text>\n</g>\n<!-- 10&#45;&gt;11 -->\n<g id=\"edge11\" class=\"edge\">\n<title>10&#45;&gt;11</title>\n<path fill=\"none\" stroke=\"#000000\" d=\"M495.589,-222.8796C482.9206,-213.2774 469.3485,-202.9903 456.3705,-193.1534\"/>\n<polygon fill=\"#000000\" stroke=\"#000000\" points=\"458.4636,-190.3482 448.38,-187.0969 454.2352,-195.9268 458.4636,-190.3482\"/>\n</g>\n<!-- 14 -->\n<g id=\"node15\" class=\"node\">\n<title>14</title>\n<polygon fill=\"#399de5\" stroke=\"#000000\" points=\"617.5,-179.5 489.5,-179.5 489.5,-111.5 617.5,-111.5 617.5,-179.5\"/>\n<text text-anchor=\"middle\" x=\"553.5\" y=\"-164.3\" font-family=\"Helvetica,sans-Serif\" font-size=\"14.00\" fill=\"#000000\">gini = 0.0</text>\n<text text-anchor=\"middle\" x=\"553.5\" y=\"-149.3\" font-family=\"Helvetica,sans-Serif\" font-size=\"14.00\" fill=\"#000000\">samples = 32.3%</text>\n<text text-anchor=\"middle\" x=\"553.5\" y=\"-134.3\" font-family=\"Helvetica,sans-Serif\" font-size=\"14.00\" fill=\"#000000\">value = [0.0, 1.0]</text>\n<text text-anchor=\"middle\" x=\"553.5\" y=\"-119.3\" font-family=\"Helvetica,sans-Serif\" font-size=\"14.00\" fill=\"#000000\">class = 0</text>\n</g>\n<!-- 10&#45;&gt;14 -->\n<g id=\"edge14\" class=\"edge\">\n<title>10&#45;&gt;14</title>\n<path fill=\"none\" stroke=\"#000000\" d=\"M551.5493,-222.8796C551.8182,-212.2134 552.1084,-200.7021 552.3806,-189.9015\"/>\n<polygon fill=\"#000000\" stroke=\"#000000\" points=\"555.8817,-189.9 552.6349,-179.8149 548.8839,-189.7235 555.8817,-189.9\"/>\n</g>\n<!-- 12 -->\n<g id=\"node13\" class=\"node\">\n<title>12</title>\n<polygon fill=\"#399de5\" stroke=\"#000000\" points=\"447,-68 324,-68 324,0 447,0 447,-68\"/>\n<text text-anchor=\"middle\" x=\"385.5\" y=\"-52.8\" font-family=\"Helvetica,sans-Serif\" font-size=\"14.00\" fill=\"#000000\">gini = 0.0</text>\n<text text-anchor=\"middle\" x=\"385.5\" y=\"-37.8\" font-family=\"Helvetica,sans-Serif\" font-size=\"14.00\" fill=\"#000000\">samples = 4.0%</text>\n<text text-anchor=\"middle\" x=\"385.5\" y=\"-22.8\" font-family=\"Helvetica,sans-Serif\" font-size=\"14.00\" fill=\"#000000\">value = [0.0, 1.0]</text>\n<text text-anchor=\"middle\" x=\"385.5\" y=\"-7.8\" font-family=\"Helvetica,sans-Serif\" font-size=\"14.00\" fill=\"#000000\">class = 0</text>\n</g>\n<!-- 11&#45;&gt;12 -->\n<g id=\"edge12\" class=\"edge\">\n<title>11&#45;&gt;12</title>\n<path fill=\"none\" stroke=\"#000000\" d=\"M390.5211,-103.9815C389.921,-95.618 389.2881,-86.7965 388.6814,-78.3409\"/>\n<polygon fill=\"#000000\" stroke=\"#000000\" points=\"392.1651,-77.9875 387.9584,-68.2637 385.1831,-78.4885 392.1651,-77.9875\"/>\n</g>\n<!-- 13 -->\n<g id=\"node14\" class=\"node\">\n<title>13</title>\n<polygon fill=\"#7bbeee\" stroke=\"#000000\" points=\"605.5,-68 465.5,-68 465.5,0 605.5,0 605.5,-68\"/>\n<text text-anchor=\"middle\" x=\"535.5\" y=\"-52.8\" font-family=\"Helvetica,sans-Serif\" font-size=\"14.00\" fill=\"#000000\">gini = 0.375</text>\n<text text-anchor=\"middle\" x=\"535.5\" y=\"-37.8\" font-family=\"Helvetica,sans-Serif\" font-size=\"14.00\" fill=\"#000000\">samples = 3.2%</text>\n<text text-anchor=\"middle\" x=\"535.5\" y=\"-22.8\" font-family=\"Helvetica,sans-Serif\" font-size=\"14.00\" fill=\"#000000\">value = [0.25, 0.75]</text>\n<text text-anchor=\"middle\" x=\"535.5\" y=\"-7.8\" font-family=\"Helvetica,sans-Serif\" font-size=\"14.00\" fill=\"#000000\">class = 0</text>\n</g>\n<!-- 11&#45;&gt;13 -->\n<g id=\"edge13\" class=\"edge\">\n<title>11&#45;&gt;13</title>\n<path fill=\"none\" stroke=\"#000000\" d=\"M446.3756,-103.9815C458.6655,-94.3313 471.7319,-84.0714 483.9632,-74.4673\"/>\n<polygon fill=\"#000000\" stroke=\"#000000\" points=\"486.1602,-77.1923 491.8638,-68.2637 481.8371,-71.6867 486.1602,-77.1923\"/>\n</g>\n<!-- 16 -->\n<g id=\"node17\" class=\"node\">\n<title>16</title>\n<polygon fill=\"#399de5\" stroke=\"#000000\" points=\"759,-179.5 636,-179.5 636,-111.5 759,-111.5 759,-179.5\"/>\n<text text-anchor=\"middle\" x=\"697.5\" y=\"-164.3\" font-family=\"Helvetica,sans-Serif\" font-size=\"14.00\" fill=\"#000000\">gini = 0.0</text>\n<text text-anchor=\"middle\" x=\"697.5\" y=\"-149.3\" font-family=\"Helvetica,sans-Serif\" font-size=\"14.00\" fill=\"#000000\">samples = 0.4%</text>\n<text text-anchor=\"middle\" x=\"697.5\" y=\"-134.3\" font-family=\"Helvetica,sans-Serif\" font-size=\"14.00\" fill=\"#000000\">value = [0.0, 1.0]</text>\n<text text-anchor=\"middle\" x=\"697.5\" y=\"-119.3\" font-family=\"Helvetica,sans-Serif\" font-size=\"14.00\" fill=\"#000000\">class = 0</text>\n</g>\n<!-- 15&#45;&gt;16 -->\n<g id=\"edge16\" class=\"edge\">\n<title>15&#45;&gt;16</title>\n<path fill=\"none\" stroke=\"#000000\" d=\"M699.4507,-222.8796C699.1818,-212.2134 698.8916,-200.7021 698.6194,-189.9015\"/>\n<polygon fill=\"#000000\" stroke=\"#000000\" points=\"702.1161,-189.7235 698.3651,-179.8149 695.1183,-189.9 702.1161,-189.7235\"/>\n</g>\n<!-- 17 -->\n<g id=\"node18\" class=\"node\">\n<title>17</title>\n<polygon fill=\"#e58139\" stroke=\"#000000\" points=\"900,-179.5 777,-179.5 777,-111.5 900,-111.5 900,-179.5\"/>\n<text text-anchor=\"middle\" x=\"838.5\" y=\"-164.3\" font-family=\"Helvetica,sans-Serif\" font-size=\"14.00\" fill=\"#000000\">gini = 0.0</text>\n<text text-anchor=\"middle\" x=\"838.5\" y=\"-149.3\" font-family=\"Helvetica,sans-Serif\" font-size=\"14.00\" fill=\"#000000\">samples = 0.4%</text>\n<text text-anchor=\"middle\" x=\"838.5\" y=\"-134.3\" font-family=\"Helvetica,sans-Serif\" font-size=\"14.00\" fill=\"#000000\">value = [1.0, 0.0]</text>\n<text text-anchor=\"middle\" x=\"838.5\" y=\"-119.3\" font-family=\"Helvetica,sans-Serif\" font-size=\"14.00\" fill=\"#000000\">class = 1</text>\n</g>\n<!-- 15&#45;&gt;17 -->\n<g id=\"edge17\" class=\"edge\">\n<title>15&#45;&gt;17</title>\n<path fill=\"none\" stroke=\"#000000\" d=\"M748.7657,-222.8796C762.4101,-211.1138 777.2469,-198.3197 790.8546,-186.5855\"/>\n<polygon fill=\"#000000\" stroke=\"#000000\" points=\"793.4187,-188.9961 798.7062,-179.8149 788.8473,-183.6948 793.4187,-188.9961\"/>\n</g>\n<!-- 19 -->\n<g id=\"node20\" class=\"node\">\n<title>19</title>\n<polygon fill=\"#e68641\" stroke=\"#000000\" points=\"1112.5,-425 956.5,-425 956.5,-342 1112.5,-342 1112.5,-425\"/>\n<text text-anchor=\"middle\" x=\"1034.5\" y=\"-409.8\" font-family=\"Helvetica,sans-Serif\" font-size=\"14.00\" fill=\"#000000\">longitude &lt;= 77.491</text>\n<text text-anchor=\"middle\" x=\"1034.5\" y=\"-394.8\" font-family=\"Helvetica,sans-Serif\" font-size=\"14.00\" fill=\"#000000\">gini = 0.073</text>\n<text text-anchor=\"middle\" x=\"1034.5\" y=\"-379.8\" font-family=\"Helvetica,sans-Serif\" font-size=\"14.00\" fill=\"#000000\">samples = 42.7%</text>\n<text text-anchor=\"middle\" x=\"1034.5\" y=\"-364.8\" font-family=\"Helvetica,sans-Serif\" font-size=\"14.00\" fill=\"#000000\">value = [0.962, 0.038]</text>\n<text text-anchor=\"middle\" x=\"1034.5\" y=\"-349.8\" font-family=\"Helvetica,sans-Serif\" font-size=\"14.00\" fill=\"#000000\">class = 1</text>\n</g>\n<!-- 18&#45;&gt;19 -->\n<g id=\"edge19\" class=\"edge\">\n<title>18&#45;&gt;19</title>\n<path fill=\"none\" stroke=\"#000000\" d=\"M1034.5,-460.8796C1034.5,-452.6838 1034.5,-443.9891 1034.5,-435.5013\"/>\n<polygon fill=\"#000000\" stroke=\"#000000\" points=\"1038.0001,-435.298 1034.5,-425.2981 1031.0001,-435.2981 1038.0001,-435.298\"/>\n</g>\n<!-- 28 -->\n<g id=\"node29\" class=\"node\">\n<title>28</title>\n<polygon fill=\"#399de5\" stroke=\"#000000\" points=\"1254,-417.5 1131,-417.5 1131,-349.5 1254,-349.5 1254,-417.5\"/>\n<text text-anchor=\"middle\" x=\"1192.5\" y=\"-402.3\" font-family=\"Helvetica,sans-Serif\" font-size=\"14.00\" fill=\"#000000\">gini = 0.0</text>\n<text text-anchor=\"middle\" x=\"1192.5\" y=\"-387.3\" font-family=\"Helvetica,sans-Serif\" font-size=\"14.00\" fill=\"#000000\">samples = 1.6%</text>\n<text text-anchor=\"middle\" x=\"1192.5\" y=\"-372.3\" font-family=\"Helvetica,sans-Serif\" font-size=\"14.00\" fill=\"#000000\">value = [0.0, 1.0]</text>\n<text text-anchor=\"middle\" x=\"1192.5\" y=\"-357.3\" font-family=\"Helvetica,sans-Serif\" font-size=\"14.00\" fill=\"#000000\">class = 0</text>\n</g>\n<!-- 18&#45;&gt;28 -->\n<g id=\"edge28\" class=\"edge\">\n<title>18&#45;&gt;28</title>\n<path fill=\"none\" stroke=\"#000000\" d=\"M1089.7607,-460.8796C1105.7503,-448.8368 1123.1703,-435.7167 1139.0474,-423.7586\"/>\n<polygon fill=\"#000000\" stroke=\"#000000\" points=\"1141.3116,-426.435 1147.1938,-417.623 1137.1002,-420.8435 1141.3116,-426.435\"/>\n</g>\n<!-- 20 -->\n<g id=\"node21\" class=\"node\">\n<title>20</title>\n<polygon fill=\"#9ccef2\" stroke=\"#000000\" points=\"1112.5,-306 956.5,-306 956.5,-223 1112.5,-223 1112.5,-306\"/>\n<text text-anchor=\"middle\" x=\"1034.5\" y=\"-290.8\" font-family=\"Helvetica,sans-Serif\" font-size=\"14.00\" fill=\"#000000\">Meal(P1) &lt;= 1.5</text>\n<text text-anchor=\"middle\" x=\"1034.5\" y=\"-275.8\" font-family=\"Helvetica,sans-Serif\" font-size=\"14.00\" fill=\"#000000\">gini = 0.444</text>\n<text text-anchor=\"middle\" x=\"1034.5\" y=\"-260.8\" font-family=\"Helvetica,sans-Serif\" font-size=\"14.00\" fill=\"#000000\">samples = 1.2%</text>\n<text text-anchor=\"middle\" x=\"1034.5\" y=\"-245.8\" font-family=\"Helvetica,sans-Serif\" font-size=\"14.00\" fill=\"#000000\">value = [0.333, 0.667]</text>\n<text text-anchor=\"middle\" x=\"1034.5\" y=\"-230.8\" font-family=\"Helvetica,sans-Serif\" font-size=\"14.00\" fill=\"#000000\">class = 0</text>\n</g>\n<!-- 19&#45;&gt;20 -->\n<g id=\"edge20\" class=\"edge\">\n<title>19&#45;&gt;20</title>\n<path fill=\"none\" stroke=\"#000000\" d=\"M1034.5,-341.8796C1034.5,-333.6838 1034.5,-324.9891 1034.5,-316.5013\"/>\n<polygon fill=\"#000000\" stroke=\"#000000\" points=\"1038.0001,-316.298 1034.5,-306.2981 1031.0001,-316.2981 1038.0001,-316.298\"/>\n</g>\n<!-- 23 -->\n<g id=\"node24\" class=\"node\">\n<title>23</title>\n<polygon fill=\"#e6833d\" stroke=\"#000000\" points=\"1342.5,-306 1186.5,-306 1186.5,-223 1342.5,-223 1342.5,-306\"/>\n<text text-anchor=\"middle\" x=\"1264.5\" y=\"-290.8\" font-family=\"Helvetica,sans-Serif\" font-size=\"14.00\" fill=\"#000000\">longitude &lt;= 77.665</text>\n<text text-anchor=\"middle\" x=\"1264.5\" y=\"-275.8\" font-family=\"Helvetica,sans-Serif\" font-size=\"14.00\" fill=\"#000000\">gini = 0.038</text>\n<text text-anchor=\"middle\" x=\"1264.5\" y=\"-260.8\" font-family=\"Helvetica,sans-Serif\" font-size=\"14.00\" fill=\"#000000\">samples = 41.5%</text>\n<text text-anchor=\"middle\" x=\"1264.5\" y=\"-245.8\" font-family=\"Helvetica,sans-Serif\" font-size=\"14.00\" fill=\"#000000\">value = [0.981, 0.019]</text>\n<text text-anchor=\"middle\" x=\"1264.5\" y=\"-230.8\" font-family=\"Helvetica,sans-Serif\" font-size=\"14.00\" fill=\"#000000\">class = 1</text>\n</g>\n<!-- 19&#45;&gt;23 -->\n<g id=\"edge23\" class=\"edge\">\n<title>19&#45;&gt;23</title>\n<path fill=\"none\" stroke=\"#000000\" d=\"M1112.6884,-343.046C1133.4274,-332.3158 1155.952,-320.6618 1177.1451,-309.6967\"/>\n<polygon fill=\"#000000\" stroke=\"#000000\" points=\"1178.8639,-312.7482 1186.1372,-305.0442 1175.6472,-306.531 1178.8639,-312.7482\"/>\n</g>\n<!-- 21 -->\n<g id=\"node22\" class=\"node\">\n<title>21</title>\n<polygon fill=\"#e58139\" stroke=\"#000000\" points=\"1041,-179.5 918,-179.5 918,-111.5 1041,-111.5 1041,-179.5\"/>\n<text text-anchor=\"middle\" x=\"979.5\" y=\"-164.3\" font-family=\"Helvetica,sans-Serif\" font-size=\"14.00\" fill=\"#000000\">gini = 0.0</text>\n<text text-anchor=\"middle\" x=\"979.5\" y=\"-149.3\" font-family=\"Helvetica,sans-Serif\" font-size=\"14.00\" fill=\"#000000\">samples = 0.4%</text>\n<text text-anchor=\"middle\" x=\"979.5\" y=\"-134.3\" font-family=\"Helvetica,sans-Serif\" font-size=\"14.00\" fill=\"#000000\">value = [1.0, 0.0]</text>\n<text text-anchor=\"middle\" x=\"979.5\" y=\"-119.3\" font-family=\"Helvetica,sans-Serif\" font-size=\"14.00\" fill=\"#000000\">class = 1</text>\n</g>\n<!-- 20&#45;&gt;21 -->\n<g id=\"edge21\" class=\"edge\">\n<title>20&#45;&gt;21</title>\n<path fill=\"none\" stroke=\"#000000\" d=\"M1015.2637,-222.8796C1010.1814,-211.8835 1004.6841,-199.9893 999.5595,-188.9015\"/>\n<polygon fill=\"#000000\" stroke=\"#000000\" points=\"1002.7324,-187.4239 995.3598,-179.8149 996.3782,-190.3607 1002.7324,-187.4239\"/>\n</g>\n<!-- 22 -->\n<g id=\"node23\" class=\"node\">\n<title>22</title>\n<polygon fill=\"#399de5\" stroke=\"#000000\" points=\"1182,-179.5 1059,-179.5 1059,-111.5 1182,-111.5 1182,-179.5\"/>\n<text text-anchor=\"middle\" x=\"1120.5\" y=\"-164.3\" font-family=\"Helvetica,sans-Serif\" font-size=\"14.00\" fill=\"#000000\">gini = 0.0</text>\n<text text-anchor=\"middle\" x=\"1120.5\" y=\"-149.3\" font-family=\"Helvetica,sans-Serif\" font-size=\"14.00\" fill=\"#000000\">samples = 0.8%</text>\n<text text-anchor=\"middle\" x=\"1120.5\" y=\"-134.3\" font-family=\"Helvetica,sans-Serif\" font-size=\"14.00\" fill=\"#000000\">value = [0.0, 1.0]</text>\n<text text-anchor=\"middle\" x=\"1120.5\" y=\"-119.3\" font-family=\"Helvetica,sans-Serif\" font-size=\"14.00\" fill=\"#000000\">class = 0</text>\n</g>\n<!-- 20&#45;&gt;22 -->\n<g id=\"edge22\" class=\"edge\">\n<title>20&#45;&gt;22</title>\n<path fill=\"none\" stroke=\"#000000\" d=\"M1064.5786,-222.8796C1072.6843,-211.6636 1081.4653,-199.5131 1089.6143,-188.2372\"/>\n<polygon fill=\"#000000\" stroke=\"#000000\" points=\"1092.6803,-189.9701 1095.701,-179.8149 1087.0068,-185.8698 1092.6803,-189.9701\"/>\n</g>\n<!-- 24 -->\n<g id=\"node25\" class=\"node\">\n<title>24</title>\n<polygon fill=\"#e58139\" stroke=\"#000000\" points=\"1328.5,-179.5 1200.5,-179.5 1200.5,-111.5 1328.5,-111.5 1328.5,-179.5\"/>\n<text text-anchor=\"middle\" x=\"1264.5\" y=\"-164.3\" font-family=\"Helvetica,sans-Serif\" font-size=\"14.00\" fill=\"#000000\">gini = 0.0</text>\n<text text-anchor=\"middle\" x=\"1264.5\" y=\"-149.3\" font-family=\"Helvetica,sans-Serif\" font-size=\"14.00\" fill=\"#000000\">samples = 35.1%</text>\n<text text-anchor=\"middle\" x=\"1264.5\" y=\"-134.3\" font-family=\"Helvetica,sans-Serif\" font-size=\"14.00\" fill=\"#000000\">value = [1.0, 0.0]</text>\n<text text-anchor=\"middle\" x=\"1264.5\" y=\"-119.3\" font-family=\"Helvetica,sans-Serif\" font-size=\"14.00\" fill=\"#000000\">class = 1</text>\n</g>\n<!-- 23&#45;&gt;24 -->\n<g id=\"edge24\" class=\"edge\">\n<title>23&#45;&gt;24</title>\n<path fill=\"none\" stroke=\"#000000\" d=\"M1264.5,-222.8796C1264.5,-212.2134 1264.5,-200.7021 1264.5,-189.9015\"/>\n<polygon fill=\"#000000\" stroke=\"#000000\" points=\"1268.0001,-189.8149 1264.5,-179.8149 1261.0001,-189.815 1268.0001,-189.8149\"/>\n</g>\n<!-- 25 -->\n<g id=\"node26\" class=\"node\">\n<title>25</title>\n<polygon fill=\"#e99355\" stroke=\"#000000\" points=\"1502.5,-187 1346.5,-187 1346.5,-104 1502.5,-104 1502.5,-187\"/>\n<text text-anchor=\"middle\" x=\"1424.5\" y=\"-171.8\" font-family=\"Helvetica,sans-Serif\" font-size=\"14.00\" fill=\"#000000\">longitude &lt;= 77.676</text>\n<text text-anchor=\"middle\" x=\"1424.5\" y=\"-156.8\" font-family=\"Helvetica,sans-Serif\" font-size=\"14.00\" fill=\"#000000\">gini = 0.219</text>\n<text text-anchor=\"middle\" x=\"1424.5\" y=\"-141.8\" font-family=\"Helvetica,sans-Serif\" font-size=\"14.00\" fill=\"#000000\">samples = 6.5%</text>\n<text text-anchor=\"middle\" x=\"1424.5\" y=\"-126.8\" font-family=\"Helvetica,sans-Serif\" font-size=\"14.00\" fill=\"#000000\">value = [0.875, 0.125]</text>\n<text text-anchor=\"middle\" x=\"1424.5\" y=\"-111.8\" font-family=\"Helvetica,sans-Serif\" font-size=\"14.00\" fill=\"#000000\">class = 1</text>\n</g>\n<!-- 23&#45;&gt;25 -->\n<g id=\"edge25\" class=\"edge\">\n<title>23&#45;&gt;25</title>\n<path fill=\"none\" stroke=\"#000000\" d=\"M1320.4602,-222.8796C1333.3708,-213.2774 1347.2021,-202.9903 1360.4282,-193.1534\"/>\n<polygon fill=\"#000000\" stroke=\"#000000\" points=\"1362.6361,-195.8732 1368.5714,-187.0969 1358.4586,-190.2564 1362.6361,-195.8732\"/>\n</g>\n<!-- 26 -->\n<g id=\"node27\" class=\"node\">\n<title>26</title>\n<polygon fill=\"#399de5\" stroke=\"#000000\" points=\"1407,-68 1284,-68 1284,0 1407,0 1407,-68\"/>\n<text text-anchor=\"middle\" x=\"1345.5\" y=\"-52.8\" font-family=\"Helvetica,sans-Serif\" font-size=\"14.00\" fill=\"#000000\">gini = 0.0</text>\n<text text-anchor=\"middle\" x=\"1345.5\" y=\"-37.8\" font-family=\"Helvetica,sans-Serif\" font-size=\"14.00\" fill=\"#000000\">samples = 0.4%</text>\n<text text-anchor=\"middle\" x=\"1345.5\" y=\"-22.8\" font-family=\"Helvetica,sans-Serif\" font-size=\"14.00\" fill=\"#000000\">value = [0.0, 1.0]</text>\n<text text-anchor=\"middle\" x=\"1345.5\" y=\"-7.8\" font-family=\"Helvetica,sans-Serif\" font-size=\"14.00\" fill=\"#000000\">class = 0</text>\n</g>\n<!-- 25&#45;&gt;26 -->\n<g id=\"edge26\" class=\"edge\">\n<title>25&#45;&gt;26</title>\n<path fill=\"none\" stroke=\"#000000\" d=\"M1395.0833,-103.9815C1388.7669,-95.0666 1382.0818,-85.6313 1375.7349,-76.6734\"/>\n<polygon fill=\"#000000\" stroke=\"#000000\" points=\"1378.4136,-74.3998 1369.7765,-68.2637 1372.7019,-78.4466 1378.4136,-74.3998\"/>\n</g>\n<!-- 27 -->\n<g id=\"node28\" class=\"node\">\n<title>27</title>\n<polygon fill=\"#e78a47\" stroke=\"#000000\" points=\"1581.5,-68 1425.5,-68 1425.5,0 1581.5,0 1581.5,-68\"/>\n<text text-anchor=\"middle\" x=\"1503.5\" y=\"-52.8\" font-family=\"Helvetica,sans-Serif\" font-size=\"14.00\" fill=\"#000000\">gini = 0.124</text>\n<text text-anchor=\"middle\" x=\"1503.5\" y=\"-37.8\" font-family=\"Helvetica,sans-Serif\" font-size=\"14.00\" fill=\"#000000\">samples = 6.0%</text>\n<text text-anchor=\"middle\" x=\"1503.5\" y=\"-22.8\" font-family=\"Helvetica,sans-Serif\" font-size=\"14.00\" fill=\"#000000\">value = [0.933, 0.067]</text>\n<text text-anchor=\"middle\" x=\"1503.5\" y=\"-7.8\" font-family=\"Helvetica,sans-Serif\" font-size=\"14.00\" fill=\"#000000\">class = 1</text>\n</g>\n<!-- 25&#45;&gt;27 -->\n<g id=\"edge27\" class=\"edge\">\n<title>25&#45;&gt;27</title>\n<path fill=\"none\" stroke=\"#000000\" d=\"M1453.9167,-103.9815C1460.2331,-95.0666 1466.9182,-85.6313 1473.2651,-76.6734\"/>\n<polygon fill=\"#000000\" stroke=\"#000000\" points=\"1476.2981,-78.4466 1479.2235,-68.2637 1470.5864,-74.3998 1476.2981,-78.4466\"/>\n</g>\n</g>\n</svg>\n"
          },
          "metadata": {},
          "execution_count": 21
        }
      ]
    },
    {
      "cell_type": "code",
      "source": [
        "from sklearn.pipeline import Pipeline\n",
        "\n",
        "pipe = make_pipeline(\n",
        "    OrdinalEncoder(), \n",
        "    SimpleImputer(), \n",
        "    RandomForestClassifier(random_state=2)\n",
        ")\n",
        "\n",
        "dists = {\n",
        "    'simpleimputer__strategy': ['mean', 'median', 'most_frequent'],\n",
        "    'randomforestclassifier__class_weight': ['balanced', 'balanced_subsample'],\n",
        "    'randomforestclassifier__max_depth' : [5, 10, 15, 20, None],   \n",
        "    'randomforestclassifier__n_estimators' : randint(1, 200),\n",
        "    'randomforestclassifier__min_samples_leaf': randint(1, 20), \n",
        "    'randomforestclassifier__max_features' : uniform(0, 1),\n",
        "}\n",
        "\n",
        "clf = RandomizedSearchCV(\n",
        "    pipe, \n",
        "    param_distributions=dists, \n",
        "    n_iter=50, \n",
        "    cv=3, \n",
        "    scoring='f1',  \n",
        "    verbose=1,\n",
        "    n_jobs=-1\n",
        ")\n",
        "\n",
        "clf.fit(X_train, y_train);"
      ],
      "metadata": {
        "colab": {
          "base_uri": "https://localhost:8080/"
        },
        "id": "p-TUPCpy9wg3",
        "outputId": "29b2dcd1-9c00-4f92-9f52-0a3acdd31baf"
      },
      "execution_count": 22,
      "outputs": [
        {
          "output_type": "stream",
          "name": "stdout",
          "text": [
            "Fitting 3 folds for each of 50 candidates, totalling 150 fits\n"
          ]
        }
      ]
    },
    {
      "cell_type": "code",
      "source": [
        "clf_pipe = clf.best_estimator_\n",
        "\n",
        "print('검증 정확도', clf_pipe.score(X_val, y_val))\n",
        "print(classification_report(y_val, clf_pipe.predict(X_val)))"
      ],
      "metadata": {
        "colab": {
          "base_uri": "https://localhost:8080/"
        },
        "id": "5jFHFgV0_NWu",
        "outputId": "beec0277-ee78-4564-c99d-81b33a82e545"
      },
      "execution_count": 23,
      "outputs": [
        {
          "output_type": "stream",
          "name": "stdout",
          "text": [
            "검증 정확도 0.9487179487179487\n",
            "              precision    recall  f1-score   support\n",
            "\n",
            "           0       0.90      1.00      0.95        35\n",
            "           1       1.00      0.91      0.95        43\n",
            "\n",
            "    accuracy                           0.95        78\n",
            "   macro avg       0.95      0.95      0.95        78\n",
            "weighted avg       0.95      0.95      0.95        78\n",
            "\n"
          ]
        }
      ]
    },
    {
      "cell_type": "code",
      "source": [
        "from sklearn.metrics import roc_auc_score\n",
        "\n",
        "y_pred_proba = clf_pipe.predict_proba(X_val)[:, -1]\n",
        "print('AUC score: ', roc_auc_score(y_val, y_pred_proba))"
      ],
      "metadata": {
        "colab": {
          "base_uri": "https://localhost:8080/"
        },
        "id": "zekaFqNtELTF",
        "outputId": "234ca90e-4988-4992-b960-b00a966ea164"
      },
      "execution_count": 24,
      "outputs": [
        {
          "output_type": "stream",
          "name": "stdout",
          "text": [
            "AUC score:  0.9880398671096345\n"
          ]
        }
      ]
    },
    {
      "cell_type": "code",
      "source": [
        "# 랜덤 포레스트에서 과적합이라고 생각했느데, 검증과 테스트 세트가 모두 좋은 결과를 내었다. 흠...\n",
        "y_test = clf_pipe.predict(X_test)\n",
        "print('검증 정확도', clf_pipe.score(X_test, y_test))"
      ],
      "metadata": {
        "colab": {
          "base_uri": "https://localhost:8080/"
        },
        "id": "Przt0nA7EaFP",
        "outputId": "5a20ec32-7f71-412e-a8e9-d223edf3d56c"
      },
      "execution_count": 25,
      "outputs": [
        {
          "output_type": "stream",
          "name": "stdout",
          "text": [
            "검증 정확도 1.0\n"
          ]
        }
      ]
    },
    {
      "cell_type": "code",
      "source": [
        "# !pip install shap"
      ],
      "metadata": {
        "id": "5XRl4P5uWnYt"
      },
      "execution_count": 26,
      "outputs": []
    },
    {
      "cell_type": "code",
      "source": [
        "# import shap\n",
        "\n",
        "# model = clf.best_estimator_\n",
        "\n",
        "# encoder = OrdinalEncoder()\n",
        "# X_test_encoded = encoder.fit_transform(X_test)\n",
        "\n",
        "# explainer = shap.TreeExplainer(model.named_steps['randomforestclassifier'])\n",
        "# shap_values = explainer.shap_values(X_test_encoded.iloc[:60])\n",
        "# shap.summary_plot(shap_values, X_test_encoded.iloc[:60])"
      ],
      "metadata": {
        "id": "8GMI64B1WMc3"
      },
      "execution_count": 27,
      "outputs": []
    },
    {
      "cell_type": "code",
      "source": [
        "!pip install eli5"
      ],
      "metadata": {
        "colab": {
          "base_uri": "https://localhost:8080/"
        },
        "id": "Ey5N26atLuX9",
        "outputId": "eb6c6fa7-0484-4d47-90bb-57f556460fc6"
      },
      "execution_count": 28,
      "outputs": [
        {
          "output_type": "stream",
          "name": "stdout",
          "text": [
            "Looking in indexes: https://pypi.org/simple, https://us-python.pkg.dev/colab-wheels/public/simple/\n",
            "Collecting eli5\n",
            "  Downloading eli5-0.13.0.tar.gz (216 kB)\n",
            "\u001b[K     |████████████████████████████████| 216 kB 4.1 MB/s \n",
            "\u001b[?25hRequirement already satisfied: attrs>17.1.0 in /usr/local/lib/python3.7/dist-packages (from eli5) (22.1.0)\n",
            "Collecting jinja2>=3.0.0\n",
            "  Downloading Jinja2-3.1.2-py3-none-any.whl (133 kB)\n",
            "\u001b[K     |████████████████████████████████| 133 kB 42.9 MB/s \n",
            "\u001b[?25hRequirement already satisfied: numpy>=1.9.0 in /usr/local/lib/python3.7/dist-packages (from eli5) (1.21.6)\n",
            "Requirement already satisfied: scipy in /usr/local/lib/python3.7/dist-packages (from eli5) (1.7.3)\n",
            "Requirement already satisfied: six in /usr/local/lib/python3.7/dist-packages (from eli5) (1.15.0)\n",
            "Requirement already satisfied: scikit-learn>=0.20 in /usr/local/lib/python3.7/dist-packages (from eli5) (1.0.2)\n",
            "Requirement already satisfied: graphviz in /usr/local/lib/python3.7/dist-packages (from eli5) (0.10.1)\n",
            "Requirement already satisfied: tabulate>=0.7.7 in /usr/local/lib/python3.7/dist-packages (from eli5) (0.8.10)\n",
            "Requirement already satisfied: MarkupSafe>=2.0 in /usr/local/lib/python3.7/dist-packages (from jinja2>=3.0.0->eli5) (2.0.1)\n",
            "Requirement already satisfied: joblib>=0.11 in /usr/local/lib/python3.7/dist-packages (from scikit-learn>=0.20->eli5) (1.2.0)\n",
            "Requirement already satisfied: threadpoolctl>=2.0.0 in /usr/local/lib/python3.7/dist-packages (from scikit-learn>=0.20->eli5) (3.1.0)\n",
            "Building wheels for collected packages: eli5\n",
            "  Building wheel for eli5 (setup.py) ... \u001b[?25l\u001b[?25hdone\n",
            "  Created wheel for eli5: filename=eli5-0.13.0-py2.py3-none-any.whl size=107748 sha256=50c439e246be7dcff207c24179767f79715636bb77380720870531c46bc4ab0c\n",
            "  Stored in directory: /root/.cache/pip/wheels/cc/3c/96/3ead31a8e6c20fc0f1a707fde2e05d49a80b1b4b30096573be\n",
            "Successfully built eli5\n",
            "Installing collected packages: jinja2, eli5\n",
            "  Attempting uninstall: jinja2\n",
            "    Found existing installation: Jinja2 2.11.3\n",
            "    Uninstalling Jinja2-2.11.3:\n",
            "      Successfully uninstalled Jinja2-2.11.3\n",
            "\u001b[31mERROR: pip's dependency resolver does not currently take into account all the packages that are installed. This behaviour is the source of the following dependency conflicts.\n",
            "notebook 5.7.16 requires jinja2<=3.0.0, but you have jinja2 3.1.2 which is incompatible.\n",
            "flask 1.1.4 requires Jinja2<3.0,>=2.10.1, but you have jinja2 3.1.2 which is incompatible.\u001b[0m\n",
            "Successfully installed eli5-0.13.0 jinja2-3.1.2\n"
          ]
        }
      ]
    },
    {
      "cell_type": "code",
      "source": [
        "import eli5\n",
        "from eli5.sklearn import PermutationImportance"
      ],
      "metadata": {
        "id": "DjTcH9N3LmNl"
      },
      "execution_count": 29,
      "outputs": []
    },
    {
      "cell_type": "code",
      "source": [
        "pipe = Pipeline([\n",
        "    ('preprocessing', make_pipeline(OrdinalEncoder(), SimpleImputer())),\n",
        "    ('rf', clf_pipe.named_steps['randomforestclassifier']) \n",
        "])\n",
        "\n",
        "pipe.fit(X_train, y_train)"
      ],
      "metadata": {
        "colab": {
          "base_uri": "https://localhost:8080/"
        },
        "id": "GvBe7LPaOatW",
        "outputId": "833bc962-9070-4f97-ddf1-27b5296fb423"
      },
      "execution_count": 30,
      "outputs": [
        {
          "output_type": "execute_result",
          "data": {
            "text/plain": [
              "Pipeline(steps=[('preprocessing',\n",
              "                 Pipeline(steps=[('ordinalencoder',\n",
              "                                  OrdinalEncoder(cols=['Gender',\n",
              "                                                       'Marital Status',\n",
              "                                                       'Occupation',\n",
              "                                                       'Educational '\n",
              "                                                       'Qualifications',\n",
              "                                                       'Medium (P1)',\n",
              "                                                       'Meal(P1)'],\n",
              "                                                 mapping=[{'col': 'Gender',\n",
              "                                                           'data_type': dtype('O'),\n",
              "                                                           'mapping': Female    1\n",
              "Male      2\n",
              "NaN      -2\n",
              "dtype: int64},\n",
              "                                                          {'col': 'Marital '\n",
              "                                                                  'Status',\n",
              "                                                           'data_type': dtype('O'),\n",
              "                                                           'mapping': Single               1\n",
              "Married              2\n",
              "Prefer no...\n",
              "                                                           'mapping': Food delivery apps    1\n",
              "Walk-in               2\n",
              "Web browser           3\n",
              "Direct call           4\n",
              "NaN                  -2\n",
              "dtype: int64},\n",
              "                                                          {'col': 'Meal(P1)',\n",
              "                                                           'data_type': dtype('O'),\n",
              "                                                           'mapping': Snacks       1\n",
              "Lunch        2\n",
              "Dinner       3\n",
              "Breakfast    4\n",
              "NaN         -2\n",
              "dtype: int64}])),\n",
              "                                 ('simpleimputer', SimpleImputer())])),\n",
              "                ('rf',\n",
              "                 RandomForestClassifier(class_weight='balanced_subsample',\n",
              "                                        max_depth=20,\n",
              "                                        max_features=0.03534785894351222,\n",
              "                                        n_estimators=180, random_state=2))])"
            ]
          },
          "metadata": {},
          "execution_count": 30
        }
      ]
    },
    {
      "cell_type": "code",
      "source": [
        "permuter = PermutationImportance(\n",
        "    pipe.named_steps['rf'], # model\n",
        "    scoring='accuracy', # metric\n",
        "    n_iter=5, # 다른 random seed를 사용하여 5번 반복\n",
        "    random_state=42\n",
        ")\n",
        "\n",
        "X_val_transformed = pipe.named_steps['preprocessing'].transform(X_val)\n",
        "\n",
        "permuter.fit(X_val_transformed, y_val);"
      ],
      "metadata": {
        "id": "xKsmP6HoL4c3"
      },
      "execution_count": 31,
      "outputs": []
    },
    {
      "cell_type": "code",
      "source": [
        "feature_names = X_val.columns.tolist()\n",
        "\n",
        "eli5.show_weights(\n",
        "    permuter, \n",
        "    top=None, # top n 지정 가능, None 일 경우 모든 특성 \n",
        "    feature_names=feature_names # list 형식으로 넣어야 합니다\n",
        ")"
      ],
      "metadata": {
        "colab": {
          "base_uri": "https://localhost:8080/",
          "height": 208
        },
        "id": "mFecYQq9OLFY",
        "outputId": "225b5741-09a7-4a7e-afba-a53450019417"
      },
      "execution_count": 32,
      "outputs": [
        {
          "output_type": "execute_result",
          "data": {
            "text/plain": [
              "<IPython.core.display.HTML object>"
            ],
            "text/html": [
              "\n",
              "    <style>\n",
              "    table.eli5-weights tr:hover {\n",
              "        filter: brightness(85%);\n",
              "    }\n",
              "</style>\n",
              "\n",
              "\n",
              "\n",
              "    \n",
              "\n",
              "    \n",
              "\n",
              "    \n",
              "\n",
              "    \n",
              "\n",
              "    \n",
              "\n",
              "    \n",
              "\n",
              "\n",
              "    \n",
              "\n",
              "    \n",
              "\n",
              "    \n",
              "\n",
              "    \n",
              "\n",
              "    \n",
              "\n",
              "    \n",
              "\n",
              "\n",
              "    \n",
              "\n",
              "    \n",
              "\n",
              "    \n",
              "\n",
              "    \n",
              "\n",
              "    \n",
              "        <table class=\"eli5-weights eli5-feature-importances\" style=\"border-collapse: collapse; border: none; margin-top: 0em; table-layout: auto;\">\n",
              "    <thead>\n",
              "    <tr style=\"border: none;\">\n",
              "        <th style=\"padding: 0 1em 0 0.5em; text-align: right; border: none;\">Weight</th>\n",
              "        <th style=\"padding: 0 0.5em 0 0.5em; text-align: left; border: none;\">Feature</th>\n",
              "    </tr>\n",
              "    </thead>\n",
              "    <tbody>\n",
              "    \n",
              "        <tr style=\"background-color: hsl(120, 100.00%, 80.00%); border: none;\">\n",
              "            <td style=\"padding: 0 1em 0 0.5em; text-align: right; border: none;\">\n",
              "                0.3949\n",
              "                \n",
              "                    &plusmn; 0.0784\n",
              "                \n",
              "            </td>\n",
              "            <td style=\"padding: 0 0.5em 0 0.5em; text-align: left; border: none;\">\n",
              "                Occupation\n",
              "            </td>\n",
              "        </tr>\n",
              "    \n",
              "        <tr style=\"background-color: hsl(120, 100.00%, 97.05%); border: none;\">\n",
              "            <td style=\"padding: 0 1em 0 0.5em; text-align: right; border: none;\">\n",
              "                0.0256\n",
              "                \n",
              "                    &plusmn; 0.0162\n",
              "                \n",
              "            </td>\n",
              "            <td style=\"padding: 0 0.5em 0 0.5em; text-align: left; border: none;\">\n",
              "                Age\n",
              "            </td>\n",
              "        </tr>\n",
              "    \n",
              "        <tr style=\"background-color: hsl(120, 100.00%, 97.48%); border: none;\">\n",
              "            <td style=\"padding: 0 1em 0 0.5em; text-align: right; border: none;\">\n",
              "                0.0205\n",
              "                \n",
              "                    &plusmn; 0.0126\n",
              "                \n",
              "            </td>\n",
              "            <td style=\"padding: 0 0.5em 0 0.5em; text-align: left; border: none;\">\n",
              "                latitude\n",
              "            </td>\n",
              "        </tr>\n",
              "    \n",
              "        <tr style=\"background-color: hsl(120, 100.00%, 97.94%); border: none;\">\n",
              "            <td style=\"padding: 0 1em 0 0.5em; text-align: right; border: none;\">\n",
              "                0.0154\n",
              "                \n",
              "                    &plusmn; 0.0192\n",
              "                \n",
              "            </td>\n",
              "            <td style=\"padding: 0 0.5em 0 0.5em; text-align: left; border: none;\">\n",
              "                Educational Qualifications\n",
              "            </td>\n",
              "        </tr>\n",
              "    \n",
              "        <tr style=\"background-color: hsl(120, 100.00%, 97.94%); border: none;\">\n",
              "            <td style=\"padding: 0 1em 0 0.5em; text-align: right; border: none;\">\n",
              "                0.0154\n",
              "                \n",
              "                    &plusmn; 0.0103\n",
              "                \n",
              "            </td>\n",
              "            <td style=\"padding: 0 0.5em 0 0.5em; text-align: left; border: none;\">\n",
              "                Marital Status\n",
              "            </td>\n",
              "        </tr>\n",
              "    \n",
              "        <tr style=\"background-color: hsl(120, 100.00%, 98.18%); border: none;\">\n",
              "            <td style=\"padding: 0 1em 0 0.5em; text-align: right; border: none;\">\n",
              "                0.0128\n",
              "                \n",
              "                    &plusmn; 0.0000\n",
              "                \n",
              "            </td>\n",
              "            <td style=\"padding: 0 0.5em 0 0.5em; text-align: left; border: none;\">\n",
              "                Meal(P1)\n",
              "            </td>\n",
              "        </tr>\n",
              "    \n",
              "        <tr style=\"background-color: hsl(120, 100.00%, 98.18%); border: none;\">\n",
              "            <td style=\"padding: 0 1em 0 0.5em; text-align: right; border: none;\">\n",
              "                0.0128\n",
              "                \n",
              "                    &plusmn; 0.0000\n",
              "                \n",
              "            </td>\n",
              "            <td style=\"padding: 0 0.5em 0 0.5em; text-align: left; border: none;\">\n",
              "                longitude\n",
              "            </td>\n",
              "        </tr>\n",
              "    \n",
              "        <tr style=\"background-color: hsl(120, 100.00%, 98.18%); border: none;\">\n",
              "            <td style=\"padding: 0 1em 0 0.5em; text-align: right; border: none;\">\n",
              "                0.0128\n",
              "                \n",
              "                    &plusmn; 0.0229\n",
              "                \n",
              "            </td>\n",
              "            <td style=\"padding: 0 0.5em 0 0.5em; text-align: left; border: none;\">\n",
              "                Gender\n",
              "            </td>\n",
              "        </tr>\n",
              "    \n",
              "        <tr style=\"background-color: hsl(120, 100.00%, 98.45%); border: none;\">\n",
              "            <td style=\"padding: 0 1em 0 0.5em; text-align: right; border: none;\">\n",
              "                0.0103\n",
              "                \n",
              "                    &plusmn; 0.0103\n",
              "                \n",
              "            </td>\n",
              "            <td style=\"padding: 0 0.5em 0 0.5em; text-align: left; border: none;\">\n",
              "                Family size\n",
              "            </td>\n",
              "        </tr>\n",
              "    \n",
              "        <tr style=\"background-color: hsl(0, 100.00%, 100.00%); border: none;\">\n",
              "            <td style=\"padding: 0 1em 0 0.5em; text-align: right; border: none;\">\n",
              "                0\n",
              "                \n",
              "                    &plusmn; 0.0000\n",
              "                \n",
              "            </td>\n",
              "            <td style=\"padding: 0 0.5em 0 0.5em; text-align: left; border: none;\">\n",
              "                Medium (P1)\n",
              "            </td>\n",
              "        </tr>\n",
              "    \n",
              "    \n",
              "    </tbody>\n",
              "</table>\n",
              "    \n",
              "\n",
              "    \n",
              "\n",
              "\n",
              "    \n",
              "\n",
              "    \n",
              "\n",
              "    \n",
              "\n",
              "    \n",
              "\n",
              "    \n",
              "\n",
              "    \n",
              "\n",
              "\n",
              "\n"
            ]
          },
          "metadata": {},
          "execution_count": 32
        }
      ]
    },
    {
      "cell_type": "code",
      "source": [
        "df[df['Cluster'] == 0]['Occupation'].value_counts().plot(kind='bar', color='green')"
      ],
      "metadata": {
        "colab": {
          "base_uri": "https://localhost:8080/",
          "height": 351
        },
        "id": "C3K4o00VQJN9",
        "outputId": "71555beb-7da3-4927-d196-e451d30ae554"
      },
      "execution_count": 47,
      "outputs": [
        {
          "output_type": "execute_result",
          "data": {
            "text/plain": [
              "<matplotlib.axes._subplots.AxesSubplot at 0x7f88750a4fd0>"
            ]
          },
          "metadata": {},
          "execution_count": 47
        },
        {
          "output_type": "display_data",
          "data": {
            "text/plain": [
              "<Figure size 432x288 with 1 Axes>"
            ],
            "image/png": "[encoded data removed]"
          },
          "metadata": {
            "needs_background": "light"
          }
        }
      ]
    },
    {
      "cell_type": "code",
      "source": [
        "df[df['Cluster'] == 1]['Occupation'].value_counts().plot(kind='bar', color='blue')"
      ],
      "metadata": {
        "colab": {
          "base_uri": "https://localhost:8080/",
          "height": 328
        },
        "id": "4VZzKnQlSaWm",
        "outputId": "05453ee6-5be2-42cb-f6fc-bfb063acc7fb"
      },
      "execution_count": 48,
      "outputs": [
        {
          "output_type": "execute_result",
          "data": {
            "text/plain": [
              "<matplotlib.axes._subplots.AxesSubplot at 0x7f886c093510>"
            ]
          },
          "metadata": {},
          "execution_count": 48
        },
        {
          "output_type": "display_data",
          "data": {
            "text/plain": [
              "<Figure size 432x288 with 1 Axes>"
            ],
            "image/png": "[encoded data removed]"
          },
          "metadata": {
            "needs_background": "light"
          }
        }
      ]
    },
    {
      "cell_type": "code",
      "source": [
        "cluster_0_df = df[df['Cluster'] == 0]\n",
        "sns.scatterplot(x=cluster_0_df['latitude'], y=cluster_0_df['longitude'], hue=cluster_0_df['Occupation']);"
      ],
      "metadata": {
        "colab": {
          "base_uri": "https://localhost:8080/",
          "height": 279
        },
        "id": "ymSRHm_rS05-",
        "outputId": "23fb3ac5-cd81-4f2a-bf72-f03906fd9057"
      },
      "execution_count": 35,
      "outputs": [
        {
          "output_type": "display_data",
          "data": {
            "text/plain": [
              "<Figure size 432x288 with 1 Axes>"
            ],
            "image/png": "[encoded data removed]"
          },
          "metadata": {
            "needs_background": "light"
          }
        }
      ]
    },
    {
      "cell_type": "code",
      "source": [
        "cluster_0_df['Age'].value_counts().plot(kind='bar')"
      ],
      "metadata": {
        "colab": {
          "base_uri": "https://localhost:8080/",
          "height": 286
        },
        "id": "KgL_79yFTWTq",
        "outputId": "c55f9fcf-d045-4567-c455-2cbc2cd38205"
      },
      "execution_count": 36,
      "outputs": [
        {
          "output_type": "execute_result",
          "data": {
            "text/plain": [
              "<matplotlib.axes._subplots.AxesSubplot at 0x7f8875205550>"
            ]
          },
          "metadata": {},
          "execution_count": 36
        },
        {
          "output_type": "display_data",
          "data": {
            "text/plain": [
              "<Figure size 432x288 with 1 Axes>"
            ],
            "image/png": "[encoded data removed]"
          },
          "metadata": {
            "needs_background": "light"
          }
        }
      ]
    },
    {
      "cell_type": "code",
      "source": [
        "# ['Age', 'Gender', 'Marital Status', 'Occupation', 'Monthly Income', 'Educational Qualifications', 'Family size', 'latitude', 'longitude', 'Medium (P1)', 'Meal(P1)', 'Order Time', 'Output' ]"
      ],
      "metadata": {
        "id": "g5wkGu2LUGol"
      },
      "execution_count": 37,
      "outputs": []
    },
    {
      "cell_type": "code",
      "source": [
        "cluster_0_df['Meal(P1)'].value_counts().plot(kind='bar')"
      ],
      "metadata": {
        "colab": {
          "base_uri": "https://localhost:8080/",
          "height": 324
        },
        "id": "4HI4Y9DlT2jg",
        "outputId": "7f52210a-04d5-4d30-9da1-e797bb6121d1"
      },
      "execution_count": 38,
      "outputs": [
        {
          "output_type": "execute_result",
          "data": {
            "text/plain": [
              "<matplotlib.axes._subplots.AxesSubplot at 0x7f88751b3850>"
            ]
          },
          "metadata": {},
          "execution_count": 38
        },
        {
          "output_type": "display_data",
          "data": {
            "text/plain": [
              "<Figure size 432x288 with 1 Axes>"
            ],
            "image/png": "[encoded data removed]"
          },
          "metadata": {
            "needs_background": "light"
          }
        }
      ]
    },
    {
      "cell_type": "code",
      "source": [
        "cluster_0_df['Medium (P1)'].value_counts().plot(kind='bar')"
      ],
      "metadata": {
        "colab": {
          "base_uri": "https://localhost:8080/",
          "height": 367
        },
        "id": "ZGB2C2kwUwla",
        "outputId": "002710c6-a808-4cb2-d31b-0a6397506890"
      },
      "execution_count": 39,
      "outputs": [
        {
          "output_type": "execute_result",
          "data": {
            "text/plain": [
              "<matplotlib.axes._subplots.AxesSubplot at 0x7f8875126150>"
            ]
          },
          "metadata": {},
          "execution_count": 39
        },
        {
          "output_type": "display_data",
          "data": {
            "text/plain": [
              "<Figure size 432x288 with 1 Axes>"
            ],
            "image/png": "[encoded data removed]"
          },
          "metadata": {
            "needs_background": "light"
          }
        }
      ]
    },
    {
      "cell_type": "code",
      "source": [
        "from xgboost import XGBClassifier\n",
        "\n",
        "encoder = OrdinalEncoder()\n",
        "X_train_encoded = encoder.fit_transform(X_train) # 학습데이터\n",
        "X_val_encoded = encoder.transform(X_val) # 검증데이터\n",
        "\n",
        "model = XGBClassifier(\n",
        "    n_estimators=1000,  \n",
        "    max_depth=7,   \n",
        "    learning_rate=0.2,\n",
        "    n_jobs=-1\n",
        ")\n",
        "\n",
        "eval_set = [(X_train_encoded, y_train), \n",
        "            (X_val_encoded, y_val)]\n",
        "\n",
        "model.fit(X_train_encoded, y_train, \n",
        "          eval_set=eval_set,\n",
        "          eval_metric='error', # #(wrong cases)/#(all cases)\n",
        "          early_stopping_rounds=50\n",
        "         ) # 50 rounds 동안 스코어의 개선이 없으면 멈춤"
      ],
      "metadata": {
        "colab": {
          "base_uri": "https://localhost:8080/"
        },
        "id": "jJNVaOR1GqF0",
        "outputId": "a7d372b9-8261-4d12-a654-bf29622f2edf"
      },
      "execution_count": 40,
      "outputs": [
        {
          "output_type": "stream",
          "name": "stdout",
          "text": [
            "[0]\tvalidation_0-error:0.060484\tvalidation_1-error:0.076923\n",
            "Multiple eval metrics have been passed: 'validation_1-error' will be used for early stopping.\n",
            "\n",
            "Will train until validation_1-error hasn't improved in 50 rounds.\n",
            "[1]\tvalidation_0-error:0.068548\tvalidation_1-error:0.076923\n",
            "[2]\tvalidation_0-error:0.056452\tvalidation_1-error:0.102564\n",
            "[3]\tvalidation_0-error:0.052419\tvalidation_1-error:0.102564\n",
            "[4]\tvalidation_0-error:0.056452\tvalidation_1-error:0.102564\n",
            "[5]\tvalidation_0-error:0.044355\tvalidation_1-error:0.102564\n",
            "[6]\tvalidation_0-error:0.044355\tvalidation_1-error:0.089744\n",
            "[7]\tvalidation_0-error:0.040323\tvalidation_1-error:0.089744\n",
            "[8]\tvalidation_0-error:0.040323\tvalidation_1-error:0.089744\n",
            "[9]\tvalidation_0-error:0.040323\tvalidation_1-error:0.089744\n",
            "[10]\tvalidation_0-error:0.044355\tvalidation_1-error:0.089744\n",
            "[11]\tvalidation_0-error:0.040323\tvalidation_1-error:0.089744\n",
            "[12]\tvalidation_0-error:0.040323\tvalidation_1-error:0.089744\n",
            "[13]\tvalidation_0-error:0.040323\tvalidation_1-error:0.089744\n",
            "[14]\tvalidation_0-error:0.040323\tvalidation_1-error:0.089744\n",
            "[15]\tvalidation_0-error:0.040323\tvalidation_1-error:0.089744\n",
            "[16]\tvalidation_0-error:0.03629\tvalidation_1-error:0.076923\n",
            "[17]\tvalidation_0-error:0.028226\tvalidation_1-error:0.076923\n",
            "[18]\tvalidation_0-error:0.028226\tvalidation_1-error:0.076923\n",
            "[19]\tvalidation_0-error:0.028226\tvalidation_1-error:0.076923\n",
            "[20]\tvalidation_0-error:0.028226\tvalidation_1-error:0.076923\n",
            "[21]\tvalidation_0-error:0.028226\tvalidation_1-error:0.076923\n",
            "[22]\tvalidation_0-error:0.028226\tvalidation_1-error:0.076923\n",
            "[23]\tvalidation_0-error:0.028226\tvalidation_1-error:0.076923\n",
            "[24]\tvalidation_0-error:0.028226\tvalidation_1-error:0.064103\n",
            "[25]\tvalidation_0-error:0.028226\tvalidation_1-error:0.064103\n",
            "[26]\tvalidation_0-error:0.024194\tvalidation_1-error:0.064103\n",
            "[27]\tvalidation_0-error:0.024194\tvalidation_1-error:0.064103\n",
            "[28]\tvalidation_0-error:0.028226\tvalidation_1-error:0.064103\n",
            "[29]\tvalidation_0-error:0.028226\tvalidation_1-error:0.064103\n",
            "[30]\tvalidation_0-error:0.020161\tvalidation_1-error:0.064103\n",
            "[31]\tvalidation_0-error:0.020161\tvalidation_1-error:0.064103\n",
            "[32]\tvalidation_0-error:0.020161\tvalidation_1-error:0.064103\n",
            "[33]\tvalidation_0-error:0.020161\tvalidation_1-error:0.064103\n",
            "[34]\tvalidation_0-error:0.020161\tvalidation_1-error:0.064103\n",
            "[35]\tvalidation_0-error:0.016129\tvalidation_1-error:0.064103\n",
            "[36]\tvalidation_0-error:0.016129\tvalidation_1-error:0.064103\n",
            "[37]\tvalidation_0-error:0.016129\tvalidation_1-error:0.064103\n",
            "[38]\tvalidation_0-error:0.016129\tvalidation_1-error:0.102564\n",
            "[39]\tvalidation_0-error:0.016129\tvalidation_1-error:0.102564\n",
            "[40]\tvalidation_0-error:0.016129\tvalidation_1-error:0.102564\n",
            "[41]\tvalidation_0-error:0.012097\tvalidation_1-error:0.102564\n",
            "[42]\tvalidation_0-error:0.012097\tvalidation_1-error:0.102564\n",
            "[43]\tvalidation_0-error:0.012097\tvalidation_1-error:0.102564\n",
            "[44]\tvalidation_0-error:0.012097\tvalidation_1-error:0.102564\n",
            "[45]\tvalidation_0-error:0.012097\tvalidation_1-error:0.102564\n",
            "[46]\tvalidation_0-error:0.012097\tvalidation_1-error:0.102564\n",
            "[47]\tvalidation_0-error:0.012097\tvalidation_1-error:0.102564\n",
            "[48]\tvalidation_0-error:0.012097\tvalidation_1-error:0.102564\n",
            "[49]\tvalidation_0-error:0.012097\tvalidation_1-error:0.102564\n",
            "[50]\tvalidation_0-error:0.012097\tvalidation_1-error:0.102564\n",
            "[51]\tvalidation_0-error:0.012097\tvalidation_1-error:0.102564\n",
            "[52]\tvalidation_0-error:0.012097\tvalidation_1-error:0.102564\n",
            "[53]\tvalidation_0-error:0.012097\tvalidation_1-error:0.102564\n",
            "[54]\tvalidation_0-error:0.012097\tvalidation_1-error:0.102564\n",
            "[55]\tvalidation_0-error:0.012097\tvalidation_1-error:0.102564\n",
            "[56]\tvalidation_0-error:0.012097\tvalidation_1-error:0.102564\n",
            "[57]\tvalidation_0-error:0.012097\tvalidation_1-error:0.115385\n",
            "[58]\tvalidation_0-error:0.012097\tvalidation_1-error:0.115385\n",
            "[59]\tvalidation_0-error:0.012097\tvalidation_1-error:0.115385\n",
            "[60]\tvalidation_0-error:0.012097\tvalidation_1-error:0.115385\n",
            "[61]\tvalidation_0-error:0.012097\tvalidation_1-error:0.115385\n",
            "[62]\tvalidation_0-error:0.012097\tvalidation_1-error:0.115385\n",
            "[63]\tvalidation_0-error:0.012097\tvalidation_1-error:0.115385\n",
            "[64]\tvalidation_0-error:0.012097\tvalidation_1-error:0.115385\n",
            "[65]\tvalidation_0-error:0.012097\tvalidation_1-error:0.115385\n",
            "[66]\tvalidation_0-error:0.012097\tvalidation_1-error:0.115385\n",
            "[67]\tvalidation_0-error:0.012097\tvalidation_1-error:0.115385\n",
            "[68]\tvalidation_0-error:0.012097\tvalidation_1-error:0.115385\n",
            "[69]\tvalidation_0-error:0.012097\tvalidation_1-error:0.115385\n",
            "[70]\tvalidation_0-error:0.012097\tvalidation_1-error:0.115385\n",
            "[71]\tvalidation_0-error:0.012097\tvalidation_1-error:0.115385\n",
            "[72]\tvalidation_0-error:0.008065\tvalidation_1-error:0.102564\n",
            "[73]\tvalidation_0-error:0.012097\tvalidation_1-error:0.115385\n",
            "[74]\tvalidation_0-error:0.012097\tvalidation_1-error:0.115385\n",
            "Stopping. Best iteration:\n",
            "[24]\tvalidation_0-error:0.028226\tvalidation_1-error:0.064103\n",
            "\n"
          ]
        },
        {
          "output_type": "execute_result",
          "data": {
            "text/plain": [
              "XGBClassifier(learning_rate=0.2, max_depth=7, n_estimators=1000, n_jobs=-1)"
            ]
          },
          "metadata": {},
          "execution_count": 40
        }
      ]
    },
    {
      "cell_type": "code",
      "source": [
        "pipe = make_pipeline(\n",
        "    OrdinalEncoder(), \n",
        "    SimpleImputer(), \n",
        "    XGBClassifier(random_state=2\n",
        "                  , n_jobs=-1,\n",
        "                  n_estimators=21,  \n",
        "                 )\n",
        ")\n",
        "\n",
        "dists = {\n",
        "     'xgbclassifier__learning_rate' : [0.05,0.10,0.15,0.20,0.25,0.30],\n",
        "      'xgbclassifier__max_depth' : [ 3, 4, 5, 6, 8, 10, 12, 15],\n",
        "      'xgbclassifier__min_child_weight' : [ 1, 3, 5, 7 ],\n",
        "      'xgbclassifier__gamma': [ 0.0, 0.1, 0.2 , 0.3, 0.4 ],\n",
        "      'xgbclassifier__colsample_bytree' : [ 0.3, 0.4, 0.5 , 0.7 ],\n",
        "}\n",
        "    \n",
        "clf = RandomizedSearchCV(\n",
        "    pipe, \n",
        "    param_distributions=dists, \n",
        "    n_iter=10, \n",
        "    cv=5, \n",
        "    scoring='roc_auc',  \n",
        "    verbose=1,\n",
        "    n_jobs=-1\n",
        ")"
      ],
      "metadata": {
        "id": "NRwjCYKmI3_d"
      },
      "execution_count": 41,
      "outputs": []
    },
    {
      "cell_type": "code",
      "source": [
        "clf.fit(X_train, y_train);"
      ],
      "metadata": {
        "colab": {
          "base_uri": "https://localhost:8080/"
        },
        "id": "FTV9URbcKYr7",
        "outputId": "4387ea53-3204-4fec-d790-ab4871665c62"
      },
      "execution_count": 42,
      "outputs": [
        {
          "output_type": "stream",
          "name": "stdout",
          "text": [
            "Fitting 5 folds for each of 10 candidates, totalling 50 fits\n"
          ]
        }
      ]
    },
    {
      "cell_type": "code",
      "source": [
        "clf_pipe = clf.best_estimator_\n",
        "\n",
        "print('검증 정확도', clf_pipe.score(X_val, y_val))\n",
        "print(classification_report(y_val, clf_pipe.predict(X_val)))"
      ],
      "metadata": {
        "colab": {
          "base_uri": "https://localhost:8080/"
        },
        "id": "wnTSUDw-Ka_a",
        "outputId": "37f17b8a-ba91-41a9-bc42-f137ef7a5fa7"
      },
      "execution_count": 43,
      "outputs": [
        {
          "output_type": "stream",
          "name": "stdout",
          "text": [
            "검증 정확도 0.9358974358974359\n",
            "              precision    recall  f1-score   support\n",
            "\n",
            "           0       0.89      0.97      0.93        35\n",
            "           1       0.97      0.91      0.94        43\n",
            "\n",
            "    accuracy                           0.94        78\n",
            "   macro avg       0.93      0.94      0.94        78\n",
            "weighted avg       0.94      0.94      0.94        78\n",
            "\n"
          ]
        }
      ]
    },
    {
      "cell_type": "code",
      "source": [
        "from sklearn.metrics import roc_auc_score\n",
        "\n",
        "y_pred_proba = clf_pipe.predict_proba(X_val)[:, -1]\n",
        "print('AUC score: ', roc_auc_score(y_val, y_pred_proba))"
      ],
      "metadata": {
        "colab": {
          "base_uri": "https://localhost:8080/"
        },
        "id": "54nO1qwVLCht",
        "outputId": "7c6cc30d-15cb-47fc-c4d6-19c98658df58"
      },
      "execution_count": 44,
      "outputs": [
        {
          "output_type": "stream",
          "name": "stdout",
          "text": [
            "AUC score:  0.9800664451827243\n"
          ]
        }
      ]
    },
    {
      "cell_type": "code",
      "source": [
        "y_test = clf_pipe.predict(X_test)\n",
        "print('검증 정확도', clf_pipe.score(X_test, y_test))"
      ],
      "metadata": {
        "colab": {
          "base_uri": "https://localhost:8080/"
        },
        "id": "lb7X6648Khp-",
        "outputId": "4ae8ccaf-b3ec-40d1-a9df-1cfb5047a6c8"
      },
      "execution_count": 45,
      "outputs": [
        {
          "output_type": "stream",
          "name": "stdout",
          "text": [
            "검증 정확도 1.0\n"
          ]
        }
      ]
    },
    {
      "cell_type": "code",
      "source": [],
      "metadata": {
        "id": "gcEaR9V_Kvc5"
      },
      "execution_count": 45,
      "outputs": []
    }
  ]
}